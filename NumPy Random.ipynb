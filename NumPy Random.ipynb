{
 "cells": [
  {
   "cell_type": "markdown",
   "metadata": {},
   "source": [
    "# Numpy Random Package"
   ]
  },
  {
   "cell_type": "markdown",
   "metadata": {},
   "source": [
    "#### NumPy is an extention to python which adds multidementional array sipport to python. \n",
    "![title](https://cdn-images-1.medium.com/max/1000/1*mc5YIn7jvo5uwuqBOUDw7Q.jpeg)"
   ]
  },
  {
   "cell_type": "markdown",
   "metadata": {},
   "source": [
    "NumPy is the fundamental package for scientific computing with Python. It contains among other things: a powerful N-dimensional array object. sophisticated (broadcasting) functions. It was initially formed in 1995."
   ]
  },
  {
   "cell_type": "markdown",
   "metadata": {},
   "source": [
    "### Imports\n",
    "Import the Numpy package and the matplotlib.pyplot, This enables the user to display graphical representations."
   ]
  },
  {
   "cell_type": "code",
   "execution_count": 1,
   "metadata": {},
   "outputs": [],
   "source": [
    "# import the numpy and matplotlib packages to get there functionality \n",
    "import numpy as np\n",
    "import matplotlib.pyplot as plt"
   ]
  },
  {
   "cell_type": "markdown",
   "metadata": {},
   "source": [
    "#### Array displayed in Numpy\n",
    "* Create a simple array of digits.\n",
    "* cast the array to numpy\n",
    "* display the array\n",
    "* manipulations can be made on this array eg.Multiplication"
   ]
  },
  {
   "cell_type": "code",
   "execution_count": 2,
   "metadata": {},
   "outputs": [
    {
     "name": "stdout",
     "output_type": "stream",
     "text": [
      "[ 1.   2.   3.   4.   5.   6.  10.5]\n"
     ]
    }
   ],
   "source": [
    "a=[1,2,3,4,5,6,10.5]\n",
    "b=np.array(a)\n",
    "print(b)"
   ]
  },
  {
   "cell_type": "code",
   "execution_count": 3,
   "metadata": {
    "scrolled": true
   },
   "outputs": [
    {
     "name": "stdout",
     "output_type": "stream",
     "text": [
      "[ 3.   6.   9.  12.  15.  18.  31.5]\n"
     ]
    }
   ],
   "source": [
    "print(b*3)"
   ]
  },
  {
   "cell_type": "markdown",
   "metadata": {},
   "source": [
    "#### Arrange"
   ]
  },
  {
   "cell_type": "code",
   "execution_count": 4,
   "metadata": {},
   "outputs": [
    {
     "data": {
      "text/plain": [
       "array([1, 2, 3, 4, 5, 6, 7, 8, 9])"
      ]
     },
     "execution_count": 4,
     "metadata": {},
     "output_type": "execute_result"
    }
   ],
   "source": [
    "# arange when passed two number gives back an array from the first number up to and not including the second number\n",
    "c=np.arange(1,10)\n",
    "c"
   ]
  },
  {
   "cell_type": "code",
   "execution_count": 5,
   "metadata": {},
   "outputs": [
    {
     "data": {
      "text/plain": [
       "array([1, 3, 5, 7, 9])"
      ]
     },
     "execution_count": 5,
     "metadata": {},
     "output_type": "execute_result"
    }
   ],
   "source": [
    "# arange when passed three parameters it is the same as two but the third parameter shows the distance between the numbers\n",
    "d=np.arange(1,10,2)\n",
    "d"
   ]
  },
  {
   "cell_type": "code",
   "execution_count": 6,
   "metadata": {},
   "outputs": [
    {
     "data": {
      "text/plain": [
       "array([[1, 2, 3],\n",
       "       [4, 5, 6]])"
      ]
     },
     "execution_count": 6,
     "metadata": {},
     "output_type": "execute_result"
    }
   ],
   "source": [
    "# numpy.array(([value,value],[value,value])) creates an array with the specified values\n",
    "e = np.array([[1,2,3],[4,5,6]])\n",
    "e"
   ]
  },
  {
   "cell_type": "code",
   "execution_count": 7,
   "metadata": {},
   "outputs": [
    {
     "data": {
      "text/plain": [
       "array([list([1, 2]), list([4, 5, 6])], dtype=object)"
      ]
     },
     "execution_count": 7,
     "metadata": {},
     "output_type": "execute_result"
    }
   ],
   "source": [
    "# if the array is not retangular it will appear as 2 separate lists rather then an multi dimentional array\n",
    "p = np.array([[1,2],[4,5,6]])\n",
    "p"
   ]
  },
  {
   "cell_type": "code",
   "execution_count": 8,
   "metadata": {},
   "outputs": [
    {
     "data": {
      "text/plain": [
       "2"
      ]
     },
     "execution_count": 8,
     "metadata": {},
     "output_type": "execute_result"
    }
   ],
   "source": [
    "# arrayName.ndim gives the number of axes (dimensions) of the array.\n",
    "e.ndim"
   ]
  },
  {
   "cell_type": "markdown",
   "metadata": {},
   "source": [
    "ndim = number of dimentions in that array"
   ]
  },
  {
   "cell_type": "code",
   "execution_count": 9,
   "metadata": {},
   "outputs": [
    {
     "data": {
      "text/plain": [
       "1"
      ]
     },
     "execution_count": 9,
     "metadata": {},
     "output_type": "execute_result"
    }
   ],
   "source": [
    "b.ndim"
   ]
  },
  {
   "cell_type": "code",
   "execution_count": 10,
   "metadata": {},
   "outputs": [
    {
     "data": {
      "text/plain": [
       "(2, 3)"
      ]
     },
     "execution_count": 10,
     "metadata": {},
     "output_type": "execute_result"
    }
   ],
   "source": [
    "# shape(arrayname) the dimensions of the array. This is a tuple of integers indicating the size of the array in each dimension. \n",
    "# For a matrix with n rows and m columns, shape will be (n,m).\n",
    "# The length of the shape tuple is therefore the number of axes, ndim.\n",
    "np.shape(e)"
   ]
  },
  {
   "cell_type": "code",
   "execution_count": 11,
   "metadata": {},
   "outputs": [
    {
     "name": "stdout",
     "output_type": "stream",
     "text": [
      "[1 2 3]\n"
     ]
    }
   ],
   "source": [
    "# you can specify the array number you want the print out by printing arrayname[arraynumber]\n",
    "print (e[0])"
   ]
  },
  {
   "cell_type": "markdown",
   "metadata": {},
   "source": [
    "print (e[0]) prints out the first array in e"
   ]
  },
  {
   "cell_type": "code",
   "execution_count": 12,
   "metadata": {},
   "outputs": [
    {
     "name": "stdout",
     "output_type": "stream",
     "text": [
      "2\n"
     ]
    }
   ],
   "source": [
    "# to get a specific value at a given point in array print arrayname[arraynumber][valuenumber]\n",
    "print (e[0][1])"
   ]
  },
  {
   "cell_type": "markdown",
   "metadata": {},
   "source": [
    "print (e[0][1]) prints  out the second element in the first array"
   ]
  },
  {
   "cell_type": "code",
   "execution_count": 13,
   "metadata": {},
   "outputs": [
    {
     "data": {
      "text/plain": [
       "array([[-1.24118256,  1.81189485, -0.73476539,  1.10337497,  0.67337292],\n",
       "       [ 0.27078099,  0.67509162,  0.42636987, -0.09759356,  0.10007813],\n",
       "       [ 0.4934127 , -0.79452273, -0.8304152 ,  0.14480063, -0.17939008]])"
      ]
     },
     "execution_count": 13,
     "metadata": {},
     "output_type": "execute_result"
    }
   ],
   "source": [
    "# np.random.randn(3,5) prints out a random multidimentional array with array size 3 and 5 elements per array.\n",
    "# This is from a univariate “normal” (Gaussian) distribution of mean 0 and variance 1 (if any of the d_i are floats, they are first converted to integers by truncation)\n",
    "f = np.random.randn(3,5)\n",
    "f"
   ]
  },
  {
   "cell_type": "code",
   "execution_count": 14,
   "metadata": {},
   "outputs": [
    {
     "data": {
      "text/plain": [
       "array([[ 0,  1,  2,  3,  4],\n",
       "       [ 5,  6,  7,  8,  9],\n",
       "       [10, 11, 12, 13, 14]])"
      ]
     },
     "execution_count": 14,
     "metadata": {},
     "output_type": "execute_result"
    }
   ],
   "source": [
    "# reshape will reshape an existing or new array once the reshape size is a when multiplied is equal to the original array size\n",
    "np.arange(15).reshape(3,5)"
   ]
  },
  {
   "cell_type": "code",
   "execution_count": 15,
   "metadata": {},
   "outputs": [
    {
     "data": {
      "text/plain": [
       "5.139616219311244"
      ]
     },
     "execution_count": 15,
     "metadata": {},
     "output_type": "execute_result"
    }
   ],
   "source": [
    "# Draw samples from a uniform distribution.\n",
    "np.random.uniform(0.0,10.0)"
   ]
  },
  {
   "cell_type": "code",
   "execution_count": 16,
   "metadata": {},
   "outputs": [
    {
     "data": {
      "text/plain": [
       "3.3503588973814313"
      ]
     },
     "execution_count": 16,
     "metadata": {},
     "output_type": "execute_result"
    }
   ],
   "source": [
    "# np.random.normal(5.0,0.0) gives numbers more closely to 5.\n",
    "np.random.normal(5.0,1.0)"
   ]
  },
  {
   "cell_type": "code",
   "execution_count": 17,
   "metadata": {},
   "outputs": [
    {
     "data": {
      "text/plain": [
       "array([3.50441935, 5.32623859, 4.75793651, 4.45523598, 6.0641479 ])"
      ]
     },
     "execution_count": 17,
     "metadata": {},
     "output_type": "execute_result"
    }
   ],
   "source": [
    "# np.random.normal(5.0,1.0,5) gives numbers more closely to 5.5 numbers are created\n",
    "np.random.normal(5.0,1.0,5)\n"
   ]
  },
  {
   "cell_type": "code",
   "execution_count": 18,
   "metadata": {},
   "outputs": [
    {
     "data": {
      "text/plain": [
       "(array([  10.,   92.,  501., 1608., 2781., 2813., 1610.,  495.,   82.,\n",
       "           8.]),\n",
       " array([1.11832694, 1.89520551, 2.67208409, 3.44896267, 4.22584124,\n",
       "        5.00271982, 5.7795984 , 6.55647697, 7.33335555, 8.11023413,\n",
       "        8.8871127 ]),\n",
       " <a list of 10 Patch objects>)"
      ]
     },
     "execution_count": 18,
     "metadata": {},
     "output_type": "execute_result"
    },
    {
     "data": {
      "image/png": "[encoded data removed]",
      "text/plain": [
       "<Figure size 432x288 with 1 Axes>"
      ]
     },
     "metadata": {},
     "output_type": "display_data"
    }
   ],
   "source": [
    "# plt.hist uses the matplotlip imported to created a diagram represention of the array created.\n",
    "s=np.random.normal(5.0,1.0,10000)\n",
    "plt.hist(s)"
   ]
  },
  {
   "cell_type": "code",
   "execution_count": 19,
   "metadata": {},
   "outputs": [
    {
     "data": {
      "text/plain": [
       "(array([1033., 1034.,  992.,  956.,  973.,  950., 1032.,  987., 1062.,\n",
       "         981.]),\n",
       " array([9.99042285e-04, 1.00088801e+00, 2.00077699e+00, 3.00066596e+00,\n",
       "        4.00055493e+00, 5.00044390e+00, 6.00033288e+00, 7.00022185e+00,\n",
       "        8.00011082e+00, 8.99999979e+00, 9.99988877e+00]),\n",
       " <a list of 10 Patch objects>)"
      ]
     },
     "execution_count": 19,
     "metadata": {},
     "output_type": "execute_result"
    },
    {
     "data": {
      "image/png": "[encoded data removed]",
      "text/plain": [
       "<Figure size 432x288 with 1 Axes>"
      ]
     },
     "metadata": {},
     "output_type": "display_data"
    }
   ],
   "source": [
    "r=np.random.uniform(0.0,10.0,10000)\n",
    "plt.hist(r)\n"
   ]
  },
  {
   "cell_type": "code",
   "execution_count": 20,
   "metadata": {},
   "outputs": [
    {
     "data": {
      "text/plain": [
       "array([2, 2, 1, 0, 2, 1, 1, 0, 0, 2])"
      ]
     },
     "execution_count": 20,
     "metadata": {},
     "output_type": "execute_result"
    }
   ],
   "source": [
    "p=np.random.randint(3, size=10)\n",
    "p"
   ]
  },
  {
   "cell_type": "markdown",
   "metadata": {},
   "source": [
    "randint Returns random integers from the “discrete uniform” distribution of the specified dtype in the “half-open” interval (high, low). 0,1,2 are the 3 numbers in the array and the array is of size 10."
   ]
  },
  {
   "cell_type": "code",
   "execution_count": 21,
   "metadata": {},
   "outputs": [
    {
     "data": {
      "text/plain": [
       "(array([3., 0., 0., 0., 0., 3., 0., 0., 0., 4.]),\n",
       " array([0. , 0.2, 0.4, 0.6, 0.8, 1. , 1.2, 1.4, 1.6, 1.8, 2. ]),\n",
       " <a list of 10 Patch objects>)"
      ]
     },
     "execution_count": 21,
     "metadata": {},
     "output_type": "execute_result"
    },
    {
     "data": {
      "image/png": "[encoded data removed]",
      "text/plain": [
       "<Figure size 432x288 with 1 Axes>"
      ]
     },
     "metadata": {},
     "output_type": "display_data"
    }
   ],
   "source": [
    "plt.hist(p)"
   ]
  },
  {
   "cell_type": "code",
   "execution_count": 22,
   "metadata": {},
   "outputs": [
    {
     "data": {
      "text/plain": [
       "0.7904349008609972"
      ]
     },
     "execution_count": 22,
     "metadata": {},
     "output_type": "execute_result"
    }
   ],
   "source": [
    "# Return random floats in the half-open interval [0.0, 1.0).\n",
    "np.random.random_sample()"
   ]
  },
  {
   "cell_type": "code",
   "execution_count": 23,
   "metadata": {},
   "outputs": [
    {
     "data": {
      "text/plain": [
       "array([[3, 4, 3, 0]])"
      ]
     },
     "execution_count": 23,
     "metadata": {},
     "output_type": "execute_result"
    }
   ],
   "source": [
    "# randint(low[, high, size, dtype])\tReturn random integers from low (inclusive) to high (exclusive).\n",
    "np.random.randint(5, size=(1, 4))"
   ]
  },
  {
   "cell_type": "code",
   "execution_count": 24,
   "metadata": {},
   "outputs": [
    {
     "data": {
      "text/plain": [
       "<BarContainer object of 8 artists>"
      ]
     },
     "execution_count": 24,
     "metadata": {},
     "output_type": "execute_result"
    },
    {
     "data": {
      "image/png": "[encoded data removed]",
      "text/plain": [
       "<Figure size 432x288 with 1 Axes>"
      ]
     },
     "metadata": {},
     "output_type": "display_data"
    }
   ],
   "source": [
    "# using matplotlib to create a bar chart that shows visual representation of data\n",
    "y = [3, 10, 7, 5, 3, 4.5, 6, 8.1]\n",
    "N = len(y)\n",
    "x = range(N)\n",
    "width = 1/1.5\n",
    "plt.bar(x, y, width, color=\"blue\")"
   ]
  },
  {
   "cell_type": "code",
   "execution_count": 25,
   "metadata": {},
   "outputs": [
    {
     "data": {
      "text/plain": [
       "array([0, 1, 2, 3, 4, 5, 6, 7, 8, 9])"
      ]
     },
     "execution_count": 25,
     "metadata": {},
     "output_type": "execute_result"
    }
   ],
   "source": [
    "# aramge creates an array from 0 to the value defined(not including)\n",
    "arr = np.arange(10)\n",
    "arr"
   ]
  },
  {
   "cell_type": "code",
   "execution_count": 26,
   "metadata": {},
   "outputs": [
    {
     "data": {
      "text/plain": [
       "array([3, 2, 8, 7, 6, 1, 0, 4, 5, 9])"
      ]
     },
     "execution_count": 26,
     "metadata": {},
     "output_type": "execute_result"
    }
   ],
   "source": [
    "# Create a single dimentional array and use the random.shuffle function to shuffle the array.\n",
    "#This function only shuffles the array along the first axis of a multi-dimensional array. \n",
    "#The order of sub-arrays is changed but their contents remains the same.\n",
    "np.random.shuffle(arr)\n",
    "arr"
   ]
  },
  {
   "cell_type": "code",
   "execution_count": 27,
   "metadata": {},
   "outputs": [
    {
     "data": {
      "text/plain": [
       "array([-0.85378033, -0.46859531, -0.49720471, -0.96372382, -0.55727428,\n",
       "       -0.38999701, -0.38792527, -0.397637  , -0.63946605, -0.11610355,\n",
       "       -0.74705524, -0.18820272, -0.23299938, -0.83385136, -0.19753154,\n",
       "       -0.36727968, -0.6139085 , -0.37119767, -0.36294672, -0.71748683,\n",
       "       -0.32033767, -0.8064831 , -0.23274549, -0.40979529, -0.37783839,\n",
       "       -0.26444625, -0.3545955 , -0.9904863 , -0.86931639, -0.96526059,\n",
       "       -0.82362787, -0.19933118, -0.93108401, -0.90964216, -0.23468909,\n",
       "       -0.44303628, -0.16692045, -0.5364002 , -0.81462719, -0.0758814 ,\n",
       "       -0.16579711, -0.01728651, -0.64195457, -0.20540398, -0.72942383,\n",
       "       -0.16802889, -0.9059273 , -0.51397805, -0.90608063, -0.84581791,\n",
       "       -0.5923474 , -0.29216192, -0.7209632 , -0.76245701, -0.94341203,\n",
       "       -0.9315519 , -0.05990742, -0.27337531, -0.75538247, -0.46634781,\n",
       "       -0.31317137, -0.07596288, -0.01408029, -0.18509017, -0.10538435,\n",
       "       -0.37777818, -0.01470827, -0.56852114, -0.49563572, -0.32905983,\n",
       "       -0.2350224 , -0.66851804, -0.00340628, -0.56985171, -0.52868023,\n",
       "       -0.10220554, -0.98233199, -0.61602907, -0.85866935, -0.76537993,\n",
       "       -0.2668099 , -0.99900085, -0.29156187, -0.76382511, -0.44238221,\n",
       "       -0.59962022, -0.77882173, -0.42356776, -0.49058745, -0.35275344,\n",
       "       -0.96859091, -0.96345016, -0.56421675, -0.45201062, -0.41062835,\n",
       "       -0.90752821, -0.34390277, -0.57831327, -0.50988677, -0.29033317,\n",
       "       -0.58631565, -0.64012507, -0.53788255, -0.60595178, -0.7097104 ,\n",
       "       -0.18074176, -0.4909066 , -0.21211526, -0.67562251, -0.92971727,\n",
       "       -0.30521532, -0.58594671, -0.42465381, -0.55971649, -0.5192469 ,\n",
       "       -0.28583552, -0.97118996, -0.68887422, -0.48121846, -0.21431195,\n",
       "       -0.39166203, -0.97987689, -0.31239539, -0.05480465, -0.75209903,\n",
       "       -0.74893542, -0.87209128, -0.12912138, -0.45099081, -0.76772635,\n",
       "       -0.21249669, -0.20365453, -0.42112087, -0.53556306, -0.11905921,\n",
       "       -0.82722404, -0.311974  , -0.55884454, -0.34259068, -0.73432741,\n",
       "       -0.19685469, -0.12117123, -0.58717604, -0.35640917, -0.9612451 ,\n",
       "       -0.66347319, -0.08388343, -0.49014447, -0.2518968 , -0.4248321 ,\n",
       "       -0.58099051, -0.73949843, -0.50410839, -0.49232513, -0.39008613,\n",
       "       -0.71696416, -0.69617984, -0.82358073, -0.90453471, -0.38672569,\n",
       "       -0.10356704, -0.23781955, -0.61591299, -0.53530132, -0.05654127,\n",
       "       -0.1534443 , -0.59885671, -0.03731112, -0.81426517, -0.23318723,\n",
       "       -0.22678684, -0.69892682, -0.97656791, -0.06098656, -0.06413483,\n",
       "       -0.51344828, -0.9124952 , -0.1733446 , -0.07345174, -0.83949963,\n",
       "       -0.011413  , -0.32713817, -0.46528094, -0.58639215, -0.7967954 ,\n",
       "       -0.74892522, -0.96157662, -0.54885564, -0.51726689, -0.73687838,\n",
       "       -0.90206062, -0.75408126, -0.25933765, -0.80388708, -0.59741137,\n",
       "       -0.15243582, -0.15659179, -0.4253754 , -0.31566496, -0.97073005,\n",
       "       -0.29001973, -0.30327591, -0.186842  , -0.48147052, -0.77953072,\n",
       "       -0.01713739, -0.16907665, -0.24998196, -0.57944395, -0.09045547,\n",
       "       -0.13265046, -0.04686845, -0.715438  , -0.93290968, -0.39080457,\n",
       "       -0.50601507, -0.99104882, -0.86267556, -0.38206628, -0.25598384,\n",
       "       -0.53971083, -0.51577166, -0.89554438, -0.11748553, -0.87326827,\n",
       "       -0.97606534, -0.74472036, -0.59737356, -0.2670753 , -0.7556846 ,\n",
       "       -0.56966213, -0.37060406, -0.77087508, -0.97253536, -0.1758357 ,\n",
       "       -0.18361358, -0.35494813, -0.64980362, -0.98849872, -0.64367098,\n",
       "       -0.74736902, -0.72285081, -0.54841306, -0.51655696, -0.84844401,\n",
       "       -0.46985485, -0.4898609 , -0.03776367, -0.62196119, -0.95285418,\n",
       "       -0.53993835, -0.77047232, -0.66063089, -0.66315224, -0.43507517,\n",
       "       -0.65909245, -0.75568576, -0.3968854 , -0.03905449, -0.80183263,\n",
       "       -0.16023276, -0.61826677, -0.42078921, -0.6522873 , -0.26003489,\n",
       "       -0.73660631, -0.57720005, -0.01042434, -0.32758311, -0.06373116,\n",
       "       -0.65622341, -0.48177512, -0.84616152, -0.67044785, -0.77234694,\n",
       "       -0.35955716, -0.22518182, -0.02096795, -0.51725597, -0.98032218,\n",
       "       -0.51047678, -0.81604688, -0.0482929 , -0.55001578, -0.95712761,\n",
       "       -0.51155601, -0.38974735, -0.64989936, -0.74906339, -0.08793495,\n",
       "       -0.08766903, -0.84667964, -0.53923903, -0.90952046, -0.67913386,\n",
       "       -0.30353032, -0.29045159, -0.45426843, -0.87372218, -0.58778028,\n",
       "       -0.20846302, -0.1238649 , -0.5009406 , -0.05101387, -0.791439  ,\n",
       "       -0.2046062 , -0.50459927, -0.4202002 , -0.32791027, -0.06958582,\n",
       "       -0.40222815, -0.79144567, -0.41748042, -0.25093228, -0.36228663,\n",
       "       -0.21073818, -0.78537754, -0.52772734, -0.98716242, -0.18621218,\n",
       "       -0.35454182, -0.62090852, -0.98848615, -0.3497853 , -0.14953863,\n",
       "       -0.55814396, -0.74005258, -0.21064667, -0.57538434, -0.45332211,\n",
       "       -0.20735442, -0.43399203, -0.86354232, -0.59813328, -0.03653839,\n",
       "       -0.90866941, -0.92712323, -0.71326786, -0.44117223, -0.55068008,\n",
       "       -0.13903922, -0.19553923, -0.66197264, -0.77409353, -0.92811674,\n",
       "       -0.21924478, -0.83572362, -0.60326971, -0.10316742, -0.33019633,\n",
       "       -0.7255159 , -0.36055559, -0.09041806, -0.49980086, -0.15140984,\n",
       "       -0.35977534, -0.96221724, -0.07404882, -0.70289091, -0.0106312 ,\n",
       "       -0.53495206, -0.8402543 , -0.16353779, -0.02289028, -0.18959698,\n",
       "       -0.79454683, -0.20768233, -0.11629636, -0.31202268, -0.55314267,\n",
       "       -0.20713861, -0.5488524 , -0.06516202, -0.0720789 , -0.55980547,\n",
       "       -0.2919299 , -0.95849673, -0.82872945, -0.66036501, -0.10199286,\n",
       "       -0.63099185, -0.68707382, -0.22216668, -0.36530429, -0.89763636,\n",
       "       -0.38498051, -0.16011947, -0.07992825, -0.61860743, -0.7658135 ,\n",
       "       -0.27673863, -0.85128496, -0.68179248, -0.63776042, -0.09662427,\n",
       "       -0.67408378, -0.07863323, -0.48122369, -0.16400396, -0.42602742,\n",
       "       -0.34626617, -0.7983925 , -0.33582207, -0.49602721, -0.29397063,\n",
       "       -0.60940223, -0.22045379, -0.0609797 , -0.65888386, -0.59564365,\n",
       "       -0.44067802, -0.43870192, -0.73814431, -0.5305626 , -0.451047  ,\n",
       "       -0.76516736, -0.9991597 , -0.0661532 , -0.97596033, -0.91486149,\n",
       "       -0.53188979, -0.11882061, -0.39155309, -0.81688122, -0.89998692,\n",
       "       -0.72127654, -0.53225643, -0.25170772, -0.79469359, -0.35361171,\n",
       "       -0.32711415, -0.01789365, -0.95338045, -0.88308261, -0.89095463,\n",
       "       -0.81265289, -0.51804873, -0.66499205, -0.91685738, -0.1948848 ,\n",
       "       -0.6965182 , -0.8790855 , -0.12635133, -0.69577044, -0.78836933,\n",
       "       -0.66532516, -0.61797256, -0.01486566, -0.76485533, -0.04221681,\n",
       "       -0.35807999, -0.85555959, -0.7788571 , -0.51939404, -0.4470096 ,\n",
       "       -0.55025322, -0.72496381, -0.28988083, -0.74867008, -0.80410272,\n",
       "       -0.59985056, -0.66447591, -0.39391704, -0.5699525 , -0.29142623,\n",
       "       -0.58874855, -0.14824213, -0.46624159, -0.29546648, -0.31433675,\n",
       "       -0.05148004, -0.10262192, -0.36727026, -0.30498998, -0.89791625,\n",
       "       -0.67225527, -0.7196308 , -0.44349648, -0.72517866, -0.17652928,\n",
       "       -0.32885509, -0.64168158, -0.8741374 , -0.85078914, -0.09834358,\n",
       "       -0.96287133, -0.73127361, -0.27093675, -0.98030637, -0.04433815,\n",
       "       -0.34709009, -0.01046546, -0.65205035, -0.61997617, -0.92111098,\n",
       "       -0.0903796 , -0.52424016, -0.29878186, -0.66814966, -0.30076045,\n",
       "       -0.11537913, -0.36995402, -0.2691527 , -0.06109631, -0.9168963 ,\n",
       "       -0.90990155, -0.12697623, -0.79917398, -0.95572812, -0.11917121,\n",
       "       -0.49666967, -0.14193297, -0.01862667, -0.3681606 , -0.53287734,\n",
       "       -0.76124014, -0.68386512, -0.78379511, -0.64076025, -0.88729175,\n",
       "       -0.05654012, -0.16634069, -0.4965547 , -0.8271921 , -0.34441428,\n",
       "       -0.20279802, -0.80147028, -0.53264616, -0.72991746, -0.71983144,\n",
       "       -0.7958343 , -0.21996587, -0.03924378, -0.58854813, -0.00834255,\n",
       "       -0.39566677, -0.5250312 , -0.0910636 , -0.48911627, -0.29479466,\n",
       "       -0.4034703 , -0.33068427, -0.83561948, -0.09571916, -0.34396576,\n",
       "       -0.17362903, -0.58576846, -0.72989395, -0.48631932, -0.77031202,\n",
       "       -0.71751712, -0.70741796, -0.90038384, -0.48712415, -0.59762414,\n",
       "       -0.09734208, -0.40860481, -0.75392165, -0.78356391, -0.31798549,\n",
       "       -0.45823828, -0.8321189 , -0.63263331, -0.26967091, -0.85533132,\n",
       "       -0.18170788, -0.21888267, -0.09002578, -0.78195884, -0.46087187,\n",
       "       -0.17286579, -0.06764567, -0.56181118, -0.16283781, -0.27532382,\n",
       "       -0.09160939, -0.73479582, -0.97487046, -0.06742928, -0.01219693,\n",
       "       -0.86424465, -0.88173137, -0.1230615 , -0.11582013, -0.7332506 ,\n",
       "       -0.44700575, -0.97754579, -0.93137781, -0.45173575, -0.21602206,\n",
       "       -0.98067995, -0.04791764, -0.32141002, -0.24458369, -0.76302598,\n",
       "       -0.26616382, -0.31631117, -0.29690993, -0.22699215, -0.37417614,\n",
       "       -0.45273065, -0.85650755, -0.18050488, -0.16308828, -0.95056895,\n",
       "       -0.49795794, -0.50574255, -0.71041747, -0.12160529, -0.99284032,\n",
       "       -0.32351726, -0.17911708, -0.46629219, -0.98959024, -0.43307281,\n",
       "       -0.72383652, -0.62964562, -0.09670686, -0.8199259 , -0.54512178,\n",
       "       -0.29783174, -0.29158612, -0.19452967, -0.5203782 , -0.16337467,\n",
       "       -0.57821785, -0.8213514 , -0.27943631, -0.11101585, -0.47421718,\n",
       "       -0.65717449, -0.68268182, -0.09799045, -0.92648681, -0.03990057,\n",
       "       -0.84017743, -0.63952599, -0.86144321, -0.06071416, -0.05874011,\n",
       "       -0.02644749, -0.37705463, -0.86010979, -0.13827554, -0.01601368,\n",
       "       -0.55354932, -0.73905477, -0.71628691, -0.40952085, -0.32092437,\n",
       "       -0.37174326, -0.78912409, -0.97912538, -0.32432456, -0.93899499,\n",
       "       -0.85636952, -0.50415063, -0.3259367 , -0.36884585, -0.18655775,\n",
       "       -0.95815489, -0.05500132, -0.51412249, -0.29456245, -0.86098357,\n",
       "       -0.01582305, -0.63544677, -0.42360682, -0.93347473, -0.1099101 ,\n",
       "       -0.06250462, -0.07590842, -0.83151861, -0.84683337, -0.95191797,\n",
       "       -0.12748885, -0.53038324, -0.67439198, -0.08676395, -0.12067305,\n",
       "       -0.05027736, -0.59882912, -0.12552815, -0.95582556, -0.85370161,\n",
       "       -0.97840567, -0.38194877, -0.86180743, -0.16493332, -0.42525747,\n",
       "       -0.36329078, -0.91243428, -0.00849084, -0.6767648 , -0.16082877,\n",
       "       -0.59464092, -0.8874429 , -0.3704238 , -0.22984754, -0.17637287,\n",
       "       -0.07353932, -0.71067507, -0.66232178, -0.86817027, -0.57931909,\n",
       "       -0.41138767, -0.11394385, -0.19691515, -0.31435925, -0.87703304,\n",
       "       -0.9874574 , -0.84362909, -0.2588487 , -0.28557731, -0.6273066 ,\n",
       "       -0.18518275, -0.94291409, -0.42819426, -0.00560186, -0.04452266,\n",
       "       -0.45210358, -0.67380837, -0.15730098, -0.47499739, -0.513785  ,\n",
       "       -0.38921932, -0.63989287, -0.34495404, -0.03758136, -0.81231908,\n",
       "       -0.39399659, -0.34898861, -0.87109388, -0.23260631, -0.58180066,\n",
       "       -0.83409466, -0.08594964, -0.34136739, -0.94786477, -0.54240208,\n",
       "       -0.45569493, -0.96558446, -0.37846666, -0.25935188, -0.68846732,\n",
       "       -0.54609657, -0.42243093, -0.20254096, -0.04381108, -0.04415987,\n",
       "       -0.73415667, -0.091677  , -0.93653046, -0.71863634, -0.57783755,\n",
       "       -0.96701881, -0.78646147, -0.02230732, -0.51086514, -0.4601553 ,\n",
       "       -0.40086852, -0.07998781, -0.6471331 , -0.36455524, -0.85261872,\n",
       "       -0.16901585, -0.94416128, -0.5980763 , -0.74058493, -0.76599566,\n",
       "       -0.42152681, -0.63198367, -0.65390528, -0.72158024, -0.47975135,\n",
       "       -0.36149266, -0.37279101, -0.46255942, -0.74072336, -0.77680776,\n",
       "       -0.8265028 , -0.04780599, -0.38954596, -0.93038645, -0.64035456,\n",
       "       -0.93793111, -0.79660434, -0.74566749, -0.48676995, -0.29345622,\n",
       "       -0.56211381, -0.40678213, -0.13505608, -0.2611491 , -0.06401759,\n",
       "       -0.4056119 , -0.06647443, -0.82778772, -0.08456816, -0.36213439,\n",
       "       -0.0916836 , -0.58252296, -0.89770119, -0.08965287, -0.22958116,\n",
       "       -0.47833714, -0.89660623, -0.21082386, -0.25371611, -0.96371955,\n",
       "       -0.72502217, -0.60073217, -0.45524225, -0.94116764, -0.08548497,\n",
       "       -0.37377107, -0.22140113, -0.89859926, -0.64684416, -0.81645893,\n",
       "       -0.16495463, -0.41921166, -0.21837268, -0.81264864, -0.47987269,\n",
       "       -0.99505682, -0.03182287, -0.18507918, -0.5664633 , -0.86018195,\n",
       "       -0.18166248, -0.52982811, -0.38123022, -0.67396816, -0.85778728,\n",
       "       -0.41019161, -0.27630731, -0.28293291, -0.03861825, -0.8555675 ,\n",
       "       -0.80834415, -0.17751225, -0.07339101, -0.29050312, -0.76811168,\n",
       "       -0.14903101, -0.70219828, -0.46819271, -0.43271709, -0.0354226 ,\n",
       "       -0.5024859 , -0.20347705, -0.46462547, -0.55827215, -0.69567557,\n",
       "       -0.87799086, -0.95390828, -0.04236081, -0.13231256, -0.42592513,\n",
       "       -0.29168069, -0.02740618, -0.90028127, -0.059213  , -0.05345878,\n",
       "       -0.29679067, -0.4363961 , -0.95065989, -0.72011059, -0.39321588,\n",
       "       -0.00328633, -0.08957664, -0.43389752, -0.617276  , -0.81459192,\n",
       "       -0.7273882 , -0.17995818, -0.64675176, -0.59984544, -0.44006096,\n",
       "       -0.13296891, -0.7267696 , -0.76784237, -0.50904372, -0.06364884,\n",
       "       -0.4387232 , -0.1012346 , -0.63524936, -0.11111761, -0.26757939,\n",
       "       -0.04776903, -0.4721641 , -0.49970619, -0.77160372, -0.3564066 ,\n",
       "       -0.78333395, -0.37637689, -0.5029278 , -0.16895584, -0.80780699,\n",
       "       -0.08308118, -0.6413559 , -0.43807528, -0.33591222, -0.24011134,\n",
       "       -0.29422702, -0.37044124, -0.22445095, -0.21957852, -0.40768802,\n",
       "       -0.57404629, -0.18133722, -0.04172748, -0.88619481, -0.71324534,\n",
       "       -0.09531024, -0.55400841, -0.14529121, -0.67969775, -0.30342132,\n",
       "       -0.01003292, -0.39796644, -0.38844385, -0.37895315, -0.92301457,\n",
       "       -0.05489506, -0.84415109, -0.70910347, -0.58465503, -0.181906  ,\n",
       "       -0.70094414, -0.27863133, -0.51304594, -0.89290149, -0.65114218,\n",
       "       -0.69668571, -0.42064935, -0.02881117, -0.55976532, -0.7610933 ,\n",
       "       -0.77045249, -0.40824248, -0.69522578, -0.41863348, -0.69606482,\n",
       "       -0.99005942, -0.56756448, -0.38999049, -0.53480391, -0.05032109,\n",
       "       -0.91980049, -0.97021505, -0.75983084, -0.81769142, -0.1777973 ,\n",
       "       -0.49971946, -0.05960692, -0.33596769, -0.11607547, -0.80394081,\n",
       "       -0.43709729, -0.68089935, -0.38130003, -0.74944319, -0.42169633,\n",
       "       -0.62814911, -0.97522101, -0.55804794, -0.65021486, -0.85120835,\n",
       "       -0.76942974, -0.13526348, -0.91891332, -0.67295299, -0.22290803,\n",
       "       -0.51112051, -0.38028779, -0.46000042, -0.31367639, -0.10893712,\n",
       "       -0.20329209, -0.48072942, -0.58293293, -0.44030718, -0.82617988,\n",
       "       -0.12893915, -0.35226522, -0.62736933, -0.43489776, -0.4655377 ,\n",
       "       -0.39989326, -0.58168339, -0.32052728, -0.78584167, -0.08288133,\n",
       "       -0.3416462 , -0.78409235, -0.65442536, -0.65227828, -0.25218227])"
      ]
     },
     "execution_count": 27,
     "metadata": {},
     "output_type": "execute_result"
    }
   ],
   "source": [
    "# numpy.random.uniform(low=0.0, high=1.0, size=None)\n",
    "# Samples are uniformly distributed over the half-open interval [low, high) (includes low, but excludes high).\n",
    "# In other words, any value within the given interval is equally likely to be drawn by uniform.\n",
    "s = np.random.uniform(-1,0,1000)\n",
    "s"
   ]
  },
  {
   "cell_type": "code",
   "execution_count": 28,
   "metadata": {},
   "outputs": [
    {
     "data": {
      "text/plain": [
       "array([0.        , 0.66666667, 1.33333333, 2.        ])"
      ]
     },
     "execution_count": 28,
     "metadata": {},
     "output_type": "execute_result"
    }
   ],
   "source": [
    "# create an array with four equally spaced points starting with 0 and ending with 2.\n",
    "np.linspace(0, 2, 4)"
   ]
  },
  {
   "cell_type": "markdown",
   "metadata": {},
   "source": [
    "## References\n",
    "https://docs.scipy.org/doc/numpy/user/quickstart.html  \n",
    "https://docs.scipy.org/doc/numpy-1.15.1/reference/routines.random.html  \n",
    "https://docs.scipy.org/doc/numpy-1.13.0/reference/routines.random.html  \n",
    "http://www.numpy.org/  \n",
    "https://docs.scipy.org/doc/numpy-1.15.0/reference/generated/numpy.random.triangular.html  "
   ]
  },
  {
   "cell_type": "code",
   "execution_count": null,
   "metadata": {},
   "outputs": [],
   "source": []
  }
 ],
 "metadata": {
  "kernelspec": {
   "display_name": "Python 3",
   "language": "python",
   "name": "python3"
  },
  "language_info": {
   "codemirror_mode": {
    "name": "ipython",
    "version": 3
   },
   "file_extension": ".py",
   "mimetype": "text/x-python",
   "name": "python",
   "nbconvert_exporter": "python",
   "pygments_lexer": "ipython3",
   "version": "3.6.5"
  }
 },
 "nbformat": 4,
 "nbformat_minor": 2
}
