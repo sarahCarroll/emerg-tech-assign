{
 "cells": [
  {
   "cell_type": "markdown",
   "metadata": {},
   "source": [
    "# This is a Jupyter Notebook that explains Numpy Random Package"
   ]
  },
  {
   "cell_type": "markdown",
   "metadata": {},
   "source": [
    "### NumPy is an extention to python which adds multidementional array sipport to python. "
   ]
  },
  {
   "cell_type": "markdown",
   "metadata": {},
   "source": [
    "###### NumPy helps in Data Analysis   "
   ]
  },
  {
   "cell_type": "code",
   "execution_count": 1,
   "metadata": {},
   "outputs": [],
   "source": [
    "import numpy as np\n",
    "import matplotlib.pyplot as plt"
   ]
  },
  {
   "cell_type": "code",
   "execution_count": 2,
   "metadata": {},
   "outputs": [
    {
     "name": "stdout",
     "output_type": "stream",
     "text": [
      "[ 1.   2.   3.   4.   5.   6.  10.5]\n"
     ]
    }
   ],
   "source": [
    "a=[1,2,3,4,5,6,10.5]\n",
    "b=np.array(a)\n",
    "print(b)\n"
   ]
  },
  {
   "cell_type": "code",
   "execution_count": 3,
   "metadata": {},
   "outputs": [
    {
     "name": "stdout",
     "output_type": "stream",
     "text": [
      "[ 3.   6.   9.  12.  15.  18.  31.5]\n"
     ]
    }
   ],
   "source": [
    "print(b*3)"
   ]
  },
  {
   "cell_type": "code",
   "execution_count": 4,
   "metadata": {},
   "outputs": [],
   "source": [
    "c=np.arange(1,10)"
   ]
  },
  {
   "cell_type": "code",
   "execution_count": 5,
   "metadata": {},
   "outputs": [
    {
     "data": {
      "text/plain": [
       "array([1, 2, 3, 4, 5, 6, 7, 8, 9])"
      ]
     },
     "execution_count": 5,
     "metadata": {},
     "output_type": "execute_result"
    }
   ],
   "source": [
    "c"
   ]
  },
  {
   "cell_type": "markdown",
   "metadata": {},
   "source": [
    "arange when passed two number gives back an array from the first number up to and not including the second number"
   ]
  },
  {
   "cell_type": "markdown",
   "metadata": {},
   "source": [
    "arange when passed three parameters it is the same as two but the third parameter shows the distance between the numbers"
   ]
  },
  {
   "cell_type": "code",
   "execution_count": 6,
   "metadata": {},
   "outputs": [
    {
     "data": {
      "text/plain": [
       "array([1, 3, 5, 7, 9])"
      ]
     },
     "execution_count": 6,
     "metadata": {},
     "output_type": "execute_result"
    }
   ],
   "source": [
    "d=np.arange(1,10,2)\n",
    "d"
   ]
  },
  {
   "cell_type": "code",
   "execution_count": 7,
   "metadata": {},
   "outputs": [],
   "source": [
    "e = np.array([[1,2,3],[4,5,6]])"
   ]
  },
  {
   "cell_type": "code",
   "execution_count": 8,
   "metadata": {},
   "outputs": [
    {
     "data": {
      "text/plain": [
       "array([[1, 2, 3],\n",
       "       [4, 5, 6]])"
      ]
     },
     "execution_count": 8,
     "metadata": {},
     "output_type": "execute_result"
    }
   ],
   "source": [
    "e\n"
   ]
  },
  {
   "cell_type": "code",
   "execution_count": 9,
   "metadata": {},
   "outputs": [
    {
     "data": {
      "text/plain": [
       "2"
      ]
     },
     "execution_count": 9,
     "metadata": {},
     "output_type": "execute_result"
    }
   ],
   "source": [
    "e.ndim"
   ]
  },
  {
   "cell_type": "markdown",
   "metadata": {},
   "source": [
    "ndim = number of dimentions in that array"
   ]
  },
  {
   "cell_type": "code",
   "execution_count": 10,
   "metadata": {},
   "outputs": [
    {
     "data": {
      "text/plain": [
       "1"
      ]
     },
     "execution_count": 10,
     "metadata": {},
     "output_type": "execute_result"
    }
   ],
   "source": [
    "b.ndim"
   ]
  },
  {
   "cell_type": "code",
   "execution_count": 11,
   "metadata": {},
   "outputs": [
    {
     "data": {
      "text/plain": [
       "(2, 3)"
      ]
     },
     "execution_count": 11,
     "metadata": {},
     "output_type": "execute_result"
    }
   ],
   "source": [
    "np.shape(e)"
   ]
  },
  {
   "cell_type": "markdown",
   "metadata": {},
   "source": [
    "np.shape(e) means the number or arrays and number of elements per array in the array e"
   ]
  },
  {
   "cell_type": "code",
   "execution_count": 12,
   "metadata": {},
   "outputs": [
    {
     "name": "stdout",
     "output_type": "stream",
     "text": [
      "[1 2 3]\n"
     ]
    }
   ],
   "source": [
    "print (e[0])"
   ]
  },
  {
   "cell_type": "markdown",
   "metadata": {},
   "source": [
    "print (e[0]) prints out the first array in e"
   ]
  },
  {
   "cell_type": "code",
   "execution_count": 13,
   "metadata": {},
   "outputs": [
    {
     "name": "stdout",
     "output_type": "stream",
     "text": [
      "2\n"
     ]
    }
   ],
   "source": [
    "print (e[0][1])"
   ]
  },
  {
   "cell_type": "markdown",
   "metadata": {},
   "source": [
    "print (e[0][1]) prints  out the second element in the first array"
   ]
  },
  {
   "cell_type": "code",
   "execution_count": 14,
   "metadata": {},
   "outputs": [],
   "source": [
    "f = np.random.randn(3,5)"
   ]
  },
  {
   "cell_type": "code",
   "execution_count": 15,
   "metadata": {},
   "outputs": [
    {
     "data": {
      "text/plain": [
       "array([[-1.45649586, -0.33294649,  0.32642135,  1.50593761, -0.84254245],\n",
       "       [-0.37996673,  0.18420622,  0.92450746, -1.48577762, -1.94880429],\n",
       "       [-0.8597034 , -0.73745888,  0.66291648, -0.62017976,  0.98546677]])"
      ]
     },
     "execution_count": 15,
     "metadata": {},
     "output_type": "execute_result"
    }
   ],
   "source": [
    "f"
   ]
  },
  {
   "cell_type": "markdown",
   "metadata": {},
   "source": [
    "np.random.randn(3,5) prints out a random multidimentional array with array size 3 and 5 elements per array.This is from a univariate “normal” (Gaussian) distribution of mean 0 and variance 1 (if any of the d_i are floats, they are first converted to integers by truncation)"
   ]
  },
  {
   "cell_type": "code",
   "execution_count": 16,
   "metadata": {},
   "outputs": [
    {
     "data": {
      "text/plain": [
       "array([[ 0,  1,  2,  3,  4],\n",
       "       [ 5,  6,  7,  8,  9],\n",
       "       [10, 11, 12, 13, 14]])"
      ]
     },
     "execution_count": 16,
     "metadata": {},
     "output_type": "execute_result"
    }
   ],
   "source": [
    "np.arange(15).reshape(3,5)"
   ]
  },
  {
   "cell_type": "code",
   "execution_count": 17,
   "metadata": {},
   "outputs": [
    {
     "data": {
      "text/plain": [
       "5.835602607476562"
      ]
     },
     "execution_count": 17,
     "metadata": {},
     "output_type": "execute_result"
    }
   ],
   "source": [
    "np.random.uniform(0.0,10.0)"
   ]
  },
  {
   "cell_type": "code",
   "execution_count": 18,
   "metadata": {},
   "outputs": [
    {
     "data": {
      "text/plain": [
       "5.178506412693845"
      ]
     },
     "execution_count": 18,
     "metadata": {},
     "output_type": "execute_result"
    }
   ],
   "source": [
    "np.random.normal(5.0,1.0)"
   ]
  },
  {
   "cell_type": "markdown",
   "metadata": {},
   "source": [
    "np.random.normal(5.0,0.0) gives numbers more closely to 5."
   ]
  },
  {
   "cell_type": "code",
   "execution_count": 19,
   "metadata": {},
   "outputs": [
    {
     "data": {
      "text/plain": [
       "array([4.89170049, 7.31083959, 4.9669496 , 6.23302422, 4.06526541])"
      ]
     },
     "execution_count": 19,
     "metadata": {},
     "output_type": "execute_result"
    }
   ],
   "source": [
    "np.random.normal(5.0,1.0,5)\n"
   ]
  },
  {
   "cell_type": "code",
   "execution_count": 20,
   "metadata": {},
   "outputs": [
    {
     "data": {
      "text/plain": [
       "(array([  24.,  129.,  650., 1782., 2779., 2635., 1426.,  475.,   87.,\n",
       "          13.]),\n",
       " array([1.36225812, 2.106963  , 2.85166787, 3.59637274, 4.34107762,\n",
       "        5.08578249, 5.83048736, 6.57519224, 7.31989711, 8.06460199,\n",
       "        8.80930686]),\n",
       " <a list of 10 Patch objects>)"
      ]
     },
     "execution_count": 20,
     "metadata": {},
     "output_type": "execute_result"
    },
    {
     "data": {
      "image/png": "[encoded data removed]",
      "text/plain": [
       "<Figure size 432x288 with 1 Axes>"
      ]
     },
     "metadata": {},
     "output_type": "display_data"
    }
   ],
   "source": [
    "s=np.random.normal(5.0,1.0,10000)\n",
    "plt.hist(s)"
   ]
  },
  {
   "cell_type": "code",
   "execution_count": 21,
   "metadata": {},
   "outputs": [
    {
     "data": {
      "text/plain": [
       "(array([1027.,  998., 1008.,  947.,  959., 1003., 1007., 1037.,  995.,\n",
       "        1019.]),\n",
       " array([1.01164802e-04, 1.00009081e+00, 2.00008046e+00, 3.00007011e+00,\n",
       "        4.00005976e+00, 5.00004941e+00, 6.00003906e+00, 7.00002870e+00,\n",
       "        8.00001835e+00, 9.00000800e+00, 9.99999765e+00]),\n",
       " <a list of 10 Patch objects>)"
      ]
     },
     "execution_count": 21,
     "metadata": {},
     "output_type": "execute_result"
    },
    {
     "data": {
      "image/png": "[encoded data removed]",
      "text/plain": [
       "<Figure size 432x288 with 1 Axes>"
      ]
     },
     "metadata": {},
     "output_type": "display_data"
    }
   ],
   "source": [
    "r=np.random.uniform(0.0,10.0,10000)\n",
    "plt.hist(r)\n"
   ]
  },
  {
   "cell_type": "code",
   "execution_count": 22,
   "metadata": {},
   "outputs": [
    {
     "data": {
      "text/plain": [
       "array([1, 0, 0, 0, 2, 2, 0, 1, 2, 1])"
      ]
     },
     "execution_count": 22,
     "metadata": {},
     "output_type": "execute_result"
    }
   ],
   "source": [
    "p=np.random.randint(3, size=10)\n",
    "p"
   ]
  },
  {
   "cell_type": "markdown",
   "metadata": {},
   "source": [
    "randint Returns random integers from the “discrete uniform” distribution of the specified dtype in the “half-open” interval (high, low). 0,1,2 are the 3 numbers in the array and the array is of size 10."
   ]
  },
  {
   "cell_type": "code",
   "execution_count": 23,
   "metadata": {},
   "outputs": [
    {
     "data": {
      "text/plain": [
       "(array([4., 0., 0., 0., 0., 3., 0., 0., 0., 3.]),\n",
       " array([0. , 0.2, 0.4, 0.6, 0.8, 1. , 1.2, 1.4, 1.6, 1.8, 2. ]),\n",
       " <a list of 10 Patch objects>)"
      ]
     },
     "execution_count": 23,
     "metadata": {},
     "output_type": "execute_result"
    },
    {
     "data": {
      "image/png": "[encoded data removed]",
      "text/plain": [
       "<Figure size 432x288 with 1 Axes>"
      ]
     },
     "metadata": {},
     "output_type": "display_data"
    }
   ],
   "source": [
    "plt.hist(p)"
   ]
  },
  {
   "cell_type": "code",
   "execution_count": 24,
   "metadata": {},
   "outputs": [
    {
     "data": {
      "text/plain": [
       "0.5335861612838598"
      ]
     },
     "execution_count": 24,
     "metadata": {},
     "output_type": "execute_result"
    }
   ],
   "source": [
    "np.random.random_sample()"
   ]
  },
  {
   "cell_type": "markdown",
   "metadata": {},
   "source": [
    "Return random floats in the half-open interval [0.0, 1.0)."
   ]
  },
  {
   "cell_type": "code",
   "execution_count": 25,
   "metadata": {},
   "outputs": [
    {
     "data": {
      "text/plain": [
       "array([[1, 3, 4, 4]])"
      ]
     },
     "execution_count": 25,
     "metadata": {},
     "output_type": "execute_result"
    }
   ],
   "source": [
    "np.random.randint(5, size=(1, 4))"
   ]
  },
  {
   "cell_type": "code",
   "execution_count": 26,
   "metadata": {},
   "outputs": [
    {
     "data": {
      "text/plain": [
       "<BarContainer object of 8 artists>"
      ]
     },
     "execution_count": 26,
     "metadata": {},
     "output_type": "execute_result"
    },
    {
     "data": {
      "image/png": "[encoded data removed]",
      "text/plain": [
       "<Figure size 432x288 with 1 Axes>"
      ]
     },
     "metadata": {},
     "output_type": "display_data"
    }
   ],
   "source": [
    "y = [3, 10, 7, 5, 3, 4.5, 6, 8.1]\n",
    "N = len(y)\n",
    "x = range(N)\n",
    "width = 1/1.5\n",
    "plt.bar(x, y, width, color=\"blue\")"
   ]
  },
  {
   "cell_type": "markdown",
   "metadata": {},
   "source": [
    "Sample of barchart using matplotlib."
   ]
  },
  {
   "cell_type": "code",
   "execution_count": 27,
   "metadata": {},
   "outputs": [
    {
     "data": {
      "text/plain": [
       "array([0, 1, 2, 3, 4, 5, 6, 7, 8, 9])"
      ]
     },
     "execution_count": 27,
     "metadata": {},
     "output_type": "execute_result"
    }
   ],
   "source": [
    "arr = np.arange(10)\n",
    "arr"
   ]
  },
  {
   "cell_type": "code",
   "execution_count": 28,
   "metadata": {},
   "outputs": [
    {
     "data": {
      "text/plain": [
       "array([7, 9, 8, 5, 1, 3, 0, 4, 2, 6])"
      ]
     },
     "execution_count": 28,
     "metadata": {},
     "output_type": "execute_result"
    }
   ],
   "source": [
    "np.random.shuffle(arr)\n",
    "arr"
   ]
  },
  {
   "cell_type": "markdown",
   "metadata": {},
   "source": [
    "Create a single dimentional array and use the random.shuffle function to shuffle the array.This function only shuffles the array along the first axis of a multi-dimensional array. The order of sub-arrays is changed but their contents remains the same."
   ]
  },
  {
   "cell_type": "code",
   "execution_count": 30,
   "metadata": {},
   "outputs": [
    {
     "data": {
      "text/plain": [
       "array([-2.42539643e-01, -6.29760927e-01, -1.01622242e-01, -2.36028690e-01,\n",
       "       -3.75646207e-01, -3.15058202e-01, -3.32517164e-01, -8.01514483e-01,\n",
       "       -6.81975673e-01, -7.19968858e-01, -8.10137969e-01, -5.16553330e-01,\n",
       "       -1.52565385e-01, -9.64481585e-01, -6.85442371e-01, -5.42056701e-01,\n",
       "       -4.88790794e-01, -1.33524669e-01, -1.67853429e-01, -5.49523459e-01,\n",
       "       -8.25407526e-01, -8.43269561e-01, -7.53141567e-01, -2.02482321e-01,\n",
       "       -1.41661951e-01, -2.52159316e-01, -4.20704058e-01, -9.48424556e-02,\n",
       "       -7.99822993e-01, -5.29779323e-01, -2.01565488e-01, -4.21184405e-01,\n",
       "       -1.24140118e-01, -7.08540719e-01, -5.43937692e-01, -3.63508355e-01,\n",
       "       -9.09721027e-01, -8.00527907e-01, -8.05660304e-01, -8.06230292e-01,\n",
       "       -7.95236190e-01, -4.88956893e-01, -8.39839810e-01, -5.83567064e-01,\n",
       "       -7.40055613e-01, -5.81499946e-01, -7.86171233e-01, -7.91554239e-01,\n",
       "       -2.37444077e-01, -9.66571464e-01, -7.22198172e-01, -6.64147178e-01,\n",
       "       -8.43663596e-01, -3.86407172e-01, -7.64887775e-01, -9.05265117e-01,\n",
       "       -4.60828702e-01, -4.75508443e-01, -1.10028812e-01, -5.35589813e-01,\n",
       "       -3.59164996e-01, -1.72398072e-01, -1.70063298e-01, -3.49305782e-01,\n",
       "       -1.47643949e-01, -1.77520662e-01, -7.58170645e-01, -3.18485856e-01,\n",
       "       -6.06152229e-01, -3.55066989e-01, -9.40455876e-01, -2.61255458e-01,\n",
       "       -2.62261802e-01, -4.08872702e-02, -7.12032997e-01, -8.37867179e-01,\n",
       "       -3.87282911e-01, -8.28320672e-01, -5.65646437e-01, -1.38467195e-01,\n",
       "       -3.73872769e-01, -9.88490076e-01, -2.21211240e-01, -6.26021518e-01,\n",
       "       -6.67756840e-01, -3.99717371e-02, -7.85582487e-01, -5.43910187e-01,\n",
       "       -3.37687364e-02, -6.63268204e-01, -2.76112966e-01, -1.27444897e-01,\n",
       "       -9.79131769e-02, -7.59368786e-03, -6.18326893e-01, -7.24979081e-01,\n",
       "       -3.32794110e-01, -1.39673923e-01, -8.24529190e-02, -6.37596897e-01,\n",
       "       -9.78411389e-01, -9.33489354e-01, -5.58924759e-01, -5.12853319e-01,\n",
       "       -2.58740932e-01, -6.44623129e-01, -2.30368911e-01, -9.05607682e-02,\n",
       "       -7.81510452e-01, -3.03212118e-01, -1.36581271e-01, -9.31620879e-01,\n",
       "       -9.24599137e-01, -2.51367417e-01, -9.07822592e-01, -5.59457340e-01,\n",
       "       -4.82370413e-01, -8.06134210e-01, -9.52688158e-01, -5.45482106e-02,\n",
       "       -4.10618584e-01, -9.11299829e-02, -4.80314116e-01, -2.00451839e-01,\n",
       "       -8.04341608e-01, -9.37594882e-01, -2.98207659e-01, -9.63257371e-01,\n",
       "       -9.45603623e-01, -3.66027372e-01, -9.92640596e-02, -8.30482021e-02,\n",
       "       -2.03751570e-01, -5.59017495e-01, -8.98741647e-01, -2.43726640e-01,\n",
       "       -8.19626373e-01, -4.95514090e-01, -5.55742335e-01, -7.94350644e-01,\n",
       "       -3.70661318e-01, -5.34658089e-01, -4.35046039e-01, -8.01147290e-01,\n",
       "       -1.43110423e-01, -3.36986578e-01, -3.78225661e-01, -4.59842340e-01,\n",
       "       -1.00830188e-01, -2.90286134e-01, -3.91851240e-01, -6.23506736e-01,\n",
       "       -6.23616627e-01, -9.42444610e-01, -1.04359901e-01, -6.20253530e-01,\n",
       "       -6.87542243e-01, -1.06397869e-01, -2.29032617e-01, -4.67117575e-01,\n",
       "       -4.75137820e-01, -5.23847691e-01, -5.80810062e-01, -5.77663621e-01,\n",
       "       -5.12997884e-01, -8.99563909e-01, -1.67751084e-01, -8.83316707e-01,\n",
       "       -1.84747022e-01, -9.09961449e-01, -2.00474378e-01, -2.58047398e-01,\n",
       "       -8.65243805e-01, -6.16129730e-01, -1.03178852e-01, -8.39688200e-02,\n",
       "       -9.98748119e-01, -8.90542437e-02, -8.33833106e-01, -2.01381514e-01,\n",
       "       -9.46339274e-01, -7.91570218e-01, -5.61129327e-01, -7.46475657e-01,\n",
       "       -5.89232799e-01, -2.40470105e-01, -1.01022076e-01, -2.08705082e-02,\n",
       "       -1.11101221e-01, -9.75984368e-01, -7.21159297e-02, -4.19625348e-01,\n",
       "       -6.69565658e-01, -2.63906059e-02, -9.55511463e-01, -5.85733665e-01,\n",
       "       -7.36137967e-01, -4.64804065e-02, -5.02113228e-02, -1.89797405e-02,\n",
       "       -3.78765179e-01, -1.83858140e-01, -7.91901983e-01, -9.80732092e-02,\n",
       "       -1.87292182e-01, -6.45976548e-01, -5.64267093e-01, -7.35101489e-01,\n",
       "       -7.76086455e-01, -2.20799861e-01, -1.12179618e-02, -3.34853254e-01,\n",
       "       -8.64438985e-01, -2.72471655e-01, -7.50676153e-01, -4.95196271e-01,\n",
       "       -9.83309544e-01, -5.64480933e-01, -8.24035940e-01, -4.73801126e-01,\n",
       "       -7.85617732e-02, -7.98368694e-01, -6.61059347e-01, -8.03575080e-01,\n",
       "       -7.37092736e-01, -3.20755099e-01, -7.28981170e-01, -3.85531483e-01,\n",
       "       -7.48753654e-01, -7.10788020e-01, -1.11512258e-01, -4.65634441e-01,\n",
       "       -1.04273859e-01, -9.61659931e-02, -8.55215793e-01, -1.02842654e-01,\n",
       "       -1.59999531e-01, -1.93010655e-01, -7.71040478e-02, -9.61909750e-01,\n",
       "       -8.33001145e-01, -9.43588954e-01, -4.83023547e-01, -6.64861135e-01,\n",
       "       -1.36063068e-01, -9.47237789e-02, -5.51034804e-01, -3.11399331e-01,\n",
       "       -9.61545325e-02, -5.91190583e-01, -8.06477835e-02, -2.36068512e-01,\n",
       "       -2.49858812e-01, -1.76605668e-01, -3.65354313e-03, -5.93338350e-01,\n",
       "       -4.59177953e-01, -4.90238989e-01, -1.51667485e-01, -1.22938387e-02,\n",
       "       -3.82718928e-01, -6.14453465e-01, -6.37334635e-01, -7.26971851e-03,\n",
       "       -1.08913381e-01, -3.54521447e-01, -6.20210665e-01, -5.85034623e-01,\n",
       "       -8.86549922e-03, -5.49574919e-02, -6.91468400e-01, -3.49038140e-01,\n",
       "       -8.16722505e-02, -3.45905652e-02, -9.70158978e-02, -4.26508017e-01,\n",
       "       -3.44052061e-01, -7.32431951e-01, -6.59921608e-01, -3.37238559e-01,\n",
       "       -9.75942943e-01, -2.57829276e-01, -1.00270985e-04, -2.63767122e-01,\n",
       "       -4.99932509e-01, -7.89931207e-01, -9.79510533e-01, -1.80191769e-01,\n",
       "       -2.64174147e-01, -1.07993732e-01, -3.24985619e-01, -1.25734937e-01,\n",
       "       -5.32866492e-01, -6.73681678e-01, -1.90080783e-01, -1.78929853e-01,\n",
       "       -2.43575825e-01, -1.11314611e-01, -5.06341899e-01, -1.79132229e-02,\n",
       "       -2.13334599e-01, -7.33450401e-01, -1.42369177e-01, -6.48964746e-01,\n",
       "       -3.51406808e-01, -5.68254362e-01, -2.11765682e-01, -2.62972911e-01,\n",
       "       -4.18423733e-01, -3.75585966e-02, -6.35562254e-01, -2.56847844e-01,\n",
       "       -2.79194720e-01, -9.93875820e-01, -5.64321843e-02, -5.52896879e-01,\n",
       "       -8.51304118e-02, -9.60469635e-01, -4.24159810e-01, -7.52312487e-01,\n",
       "       -3.35955867e-01, -4.61566267e-01, -3.09902046e-02, -3.90433610e-01,\n",
       "       -9.95540714e-01, -7.37135008e-01, -1.13633592e-01, -6.85325962e-02,\n",
       "       -8.43355946e-03, -7.02281713e-01, -2.66717739e-01, -2.94027912e-01,\n",
       "       -5.92578731e-01, -8.65094838e-01, -9.21041310e-01, -8.20068130e-01,\n",
       "       -7.09718000e-01, -9.27648758e-02, -9.60672068e-01, -4.96597305e-01,\n",
       "       -4.89072626e-01, -5.84754531e-01, -2.09606775e-01, -8.78286416e-01,\n",
       "       -2.99465512e-02, -2.93763099e-01, -6.31860418e-01, -8.32002518e-01,\n",
       "       -4.92829739e-01, -4.88525446e-01, -9.39577596e-01, -3.62510934e-01,\n",
       "       -5.61925952e-01, -1.25182430e-01, -8.28637353e-01, -2.79577776e-01,\n",
       "       -1.03712241e-01, -5.01203567e-01, -1.70505516e-01, -7.58452885e-01,\n",
       "       -8.25258714e-01, -1.48498754e-01, -9.85223826e-01, -2.02054089e-01,\n",
       "       -3.96339456e-02, -9.35401944e-01, -9.84169308e-01, -4.47962931e-01,\n",
       "       -5.30429218e-01, -7.26784128e-01, -7.57267558e-01, -1.65585545e-01,\n",
       "       -9.77220820e-01, -4.65542384e-01, -9.13008908e-01, -5.09790615e-01,\n",
       "       -3.69080642e-01, -1.34799137e-01, -6.80688663e-01, -9.99938141e-01,\n",
       "       -7.61001099e-01, -1.65981693e-01, -3.12886883e-01, -9.29915990e-01,\n",
       "       -1.50394328e-01, -2.77175658e-01, -3.50919159e-01, -5.88862426e-01,\n",
       "       -6.99225587e-01, -9.77413955e-01, -1.31636572e-01, -1.58151325e-01,\n",
       "       -4.58025127e-02, -9.41243372e-01, -7.92222438e-01, -7.38817198e-01,\n",
       "       -8.23485578e-01, -7.28498017e-01, -8.24583361e-01, -3.03129610e-03,\n",
       "       -9.92830007e-01, -6.74188282e-01, -8.92029066e-01, -2.28162954e-01,\n",
       "       -3.22568261e-01, -4.06727153e-01, -8.18732244e-01, -5.20899947e-02,\n",
       "       -8.35814391e-01, -6.18992384e-01, -8.77058774e-01, -7.18185374e-01,\n",
       "       -8.33620311e-01, -2.01323672e-01, -9.83240272e-01, -3.97279166e-01,\n",
       "       -9.51718470e-01, -9.35061732e-01, -8.50616418e-02, -5.70841055e-01,\n",
       "       -9.91632233e-01, -2.38997988e-02, -3.63903532e-01, -9.58683499e-01,\n",
       "       -2.92246367e-01, -5.18680922e-01, -7.35499459e-01, -6.14052954e-01,\n",
       "       -8.92301616e-01, -2.86517411e-01, -3.30539938e-01, -7.43056492e-01,\n",
       "       -3.39702259e-01, -5.31670611e-01, -5.52634844e-01, -7.08429347e-01,\n",
       "       -3.89803958e-01, -4.43506087e-01, -5.31026288e-01, -9.18572972e-01,\n",
       "       -9.84872317e-01, -1.76627080e-01, -2.43979547e-01, -1.55161469e-02,\n",
       "       -9.53565855e-01, -9.87229108e-01, -7.38908181e-02, -6.91242035e-01,\n",
       "       -9.73446655e-01, -7.28519328e-01, -6.24486180e-01, -9.24332037e-01,\n",
       "       -9.73360041e-01, -9.28298965e-01, -9.89602781e-01, -5.71847674e-01,\n",
       "       -5.61188259e-01, -4.48258729e-01, -2.92011571e-01, -5.66441564e-01,\n",
       "       -7.74043525e-01, -6.16505999e-01, -9.38057793e-01, -2.87100768e-01,\n",
       "       -2.22390264e-01, -7.50465796e-01, -3.04551492e-01, -2.18798873e-02,\n",
       "       -5.25511866e-01, -9.40743363e-01, -3.98136638e-01, -7.89876718e-02,\n",
       "       -3.25381124e-01, -5.90378190e-01, -8.42117825e-01, -3.07707497e-01,\n",
       "       -8.75238541e-01, -8.73154676e-02, -9.40198886e-01, -9.67789647e-01,\n",
       "       -6.71591017e-01, -8.96173248e-02, -4.05698207e-01, -2.36012907e-01,\n",
       "       -9.98943929e-01, -9.47520128e-01, -4.94911296e-01, -8.17307296e-01,\n",
       "       -6.70135297e-02, -2.16563638e-01, -1.91348348e-01, -2.02635378e-01,\n",
       "       -6.93210872e-01, -3.95619154e-01, -7.76094695e-01, -4.22825614e-03,\n",
       "       -5.31209120e-01, -5.05904272e-01, -1.71684416e-01, -4.16976683e-01,\n",
       "       -6.25291201e-01, -1.92023630e-01, -1.23857397e-01, -3.88321403e-01,\n",
       "       -6.02797741e-01, -2.80008990e-01, -2.89861454e-01, -4.92385998e-01,\n",
       "       -4.90742404e-01, -4.67193863e-01, -7.42017657e-01, -8.78498705e-01,\n",
       "       -6.25270862e-01, -2.45405499e-01, -3.01539517e-01, -9.68310876e-01,\n",
       "       -6.87751890e-01, -1.92655679e-01, -8.59041477e-01, -5.81255535e-01,\n",
       "       -2.99552978e-01, -5.02835641e-01, -7.95731563e-01, -2.25205402e-01,\n",
       "       -3.66262103e-01, -6.11869131e-01, -8.21053453e-01, -7.48829186e-01,\n",
       "       -3.87532015e-01, -2.61354804e-01, -6.52918847e-01, -9.13986704e-01,\n",
       "       -5.52221590e-01, -1.39953558e-01, -1.60251059e-01, -1.30475994e-01,\n",
       "       -7.99921321e-02, -1.74338934e-01, -5.68052039e-01, -9.13767515e-01,\n",
       "       -4.12111679e-01, -1.70107080e-02, -6.79799529e-02, -2.66982290e-01,\n",
       "       -1.14566794e-01, -4.04693275e-01, -3.80641641e-01, -9.13778207e-01,\n",
       "       -3.41325882e-01, -4.37706447e-01, -7.39700279e-01, -3.88804548e-01,\n",
       "       -9.09764112e-01, -5.42672245e-01, -3.67019384e-01, -9.86606820e-01,\n",
       "       -8.34974412e-01, -5.26242769e-01, -7.91263019e-01, -8.41609007e-01,\n",
       "       -8.41384522e-01, -3.38907491e-01, -2.92293532e-01, -8.65014531e-01,\n",
       "       -4.68073772e-01, -3.74144334e-01, -6.34523715e-01, -2.39306782e-01,\n",
       "       -7.02219616e-01, -7.74660746e-02, -8.46150314e-01, -6.27628830e-01,\n",
       "       -6.70774197e-01, -4.90292877e-01, -8.18252814e-01, -5.07067190e-01,\n",
       "       -9.37191951e-01, -4.57935118e-01, -5.88002081e-02, -4.88064684e-01,\n",
       "       -6.53787139e-02, -7.84456683e-01, -4.60807271e-01, -4.01478908e-01,\n",
       "       -1.06917306e-02, -9.77528465e-01, -5.20125241e-01, -6.81487083e-01,\n",
       "       -6.36445255e-01, -3.77817564e-02, -4.37877590e-01, -9.88528565e-01,\n",
       "       -6.54402853e-01, -3.31045630e-01, -1.75973371e-02, -8.40855896e-01,\n",
       "       -6.93374530e-01, -1.01905113e-02, -7.69518823e-01, -1.20809768e-01,\n",
       "       -6.06646043e-01, -6.61099143e-01, -3.12183185e-01, -9.76131844e-01,\n",
       "       -2.48389610e-01, -3.70260959e-01, -9.14228544e-01, -9.82112164e-01,\n",
       "       -6.31071937e-01, -2.35467410e-01, -9.28175783e-01, -7.50492447e-01,\n",
       "       -9.47770286e-01, -9.25551304e-01, -3.91170016e-01, -1.01581661e-01,\n",
       "       -8.58242335e-01, -6.42716236e-02, -6.47313828e-01, -2.91740891e-01,\n",
       "       -6.32445060e-01, -5.49504354e-01, -1.67377719e-01, -8.29155522e-01,\n",
       "       -6.67818663e-01, -9.70954662e-01, -9.05340216e-01, -3.04696328e-01,\n",
       "       -6.84140336e-01, -1.34405989e-01, -6.78115299e-01, -3.85103161e-01,\n",
       "       -4.04415805e-03, -1.01920578e-01, -7.55934530e-02, -9.92885187e-01,\n",
       "       -1.87696011e-01, -1.42169414e-01, -4.15446454e-01, -5.30369263e-01,\n",
       "       -5.36486854e-02, -1.13054340e-01, -2.27940016e-01, -7.40361255e-01,\n",
       "       -6.14587903e-01, -6.66614433e-01, -8.41794090e-02, -6.10642475e-01,\n",
       "       -9.00233033e-02, -6.21251177e-01, -3.73648577e-01, -7.04546442e-01,\n",
       "       -5.56245428e-01, -9.25947753e-01, -8.26786885e-01, -2.45313050e-01,\n",
       "       -8.30120594e-01, -6.11326836e-01, -3.44807068e-01, -7.32112233e-01,\n",
       "       -2.30470358e-01, -5.47110400e-01, -3.79550651e-01, -2.26665289e-01,\n",
       "       -8.93700207e-01, -3.37116146e-01, -3.92130178e-01, -1.71064256e-01,\n",
       "       -6.73461112e-01, -2.18122718e-01, -1.00081407e-01, -8.34755010e-01,\n",
       "       -7.19141455e-01, -1.95848069e-01, -8.71158582e-01, -8.82166786e-01,\n",
       "       -3.96851463e-01, -5.65849909e-01, -1.65550950e-01, -4.74700140e-01,\n",
       "       -9.89906991e-01, -8.71639984e-01, -1.01624976e-01, -8.21440009e-01,\n",
       "       -3.73484284e-01, -2.48099309e-01, -3.27969083e-01, -7.42014638e-01,\n",
       "       -9.34403542e-02, -4.68982121e-02, -7.22670976e-01, -7.44121125e-01,\n",
       "       -8.69138490e-01, -3.59848064e-01, -8.08922499e-01, -1.56972842e-01,\n",
       "       -7.35703612e-01, -5.75858175e-01, -9.39149707e-01, -1.95968470e-01,\n",
       "       -3.79703436e-01, -7.54138382e-01, -5.04643897e-01, -3.27554960e-01,\n",
       "       -6.31327419e-01, -8.36355989e-01, -7.87396525e-01, -8.10581508e-01,\n",
       "       -7.44072730e-01, -6.33323285e-01, -6.48608412e-01, -6.58373485e-01,\n",
       "       -5.14060729e-01, -2.69866579e-01, -5.79852592e-01, -1.16276781e-01,\n",
       "       -3.72007465e-01, -3.71508034e-01, -1.63228314e-01, -2.25972533e-02,\n",
       "       -9.82837552e-01, -8.17191736e-01, -9.55866532e-01, -2.02913637e-02,\n",
       "       -5.21099439e-01, -3.99324388e-01, -7.35521708e-02, -5.89374599e-01,\n",
       "       -6.56592516e-01, -6.04847454e-01, -1.50845388e-01, -4.74224053e-01,\n",
       "       -9.10880307e-01, -6.22847585e-01, -3.96962743e-01, -1.85700748e-01,\n",
       "       -1.51421916e-01, -1.09150925e-02, -3.31018478e-01, -1.94816268e-01,\n",
       "       -5.15003649e-01, -8.74357863e-01, -7.06325056e-01, -2.95140088e-01,\n",
       "       -9.01976431e-01, -2.07424662e-01, -3.86357721e-01, -4.36492613e-01,\n",
       "       -6.65746794e-01, -5.49411270e-01, -5.71164799e-01, -2.44681880e-01,\n",
       "       -4.08014040e-01, -3.97613813e-01, -3.93030481e-01, -8.32280759e-01,\n",
       "       -2.90591554e-01, -7.11653200e-01, -5.51675422e-01, -9.82490805e-01,\n",
       "       -8.63500747e-01, -3.52787086e-01, -9.36683312e-01, -9.42969587e-01,\n",
       "       -1.05897411e-01, -7.76373203e-01, -2.22572801e-01, -2.55714389e-01,\n",
       "       -4.45863536e-01, -6.03960981e-01, -5.39705348e-01, -7.82233850e-01,\n",
       "       -8.24389774e-01, -3.71792620e-01, -7.57346913e-01, -6.18712643e-01,\n",
       "       -3.99050744e-01, -9.89869131e-01, -2.94607919e-01, -9.50627118e-01,\n",
       "       -2.25568850e-01, -4.49309828e-01, -7.68156987e-01, -9.41292615e-02,\n",
       "       -9.81316601e-01, -2.14738246e-01, -4.63124315e-01, -4.65134034e-02,\n",
       "       -2.27415872e-01, -3.22275527e-01, -3.25784599e-01, -2.66364039e-01,\n",
       "       -7.02415332e-01, -9.81004711e-01, -9.69625121e-02, -8.76230631e-01,\n",
       "       -4.18308526e-01, -7.24255594e-01, -1.65644019e-01, -1.84904881e-01,\n",
       "       -9.51902072e-01, -3.12488709e-01, -1.71563481e-02, -2.64508403e-01,\n",
       "       -2.60593209e-02, -7.16012376e-01, -1.57107909e-01, -4.20752531e-01,\n",
       "       -6.46972918e-01, -9.54776205e-02, -2.18636533e-01, -7.30825695e-01,\n",
       "       -4.00487162e-01, -9.99718495e-01, -2.50581578e-01, -6.45588867e-02,\n",
       "       -6.22523436e-01, -2.55834278e-01, -4.11621845e-01, -5.42795406e-01,\n",
       "       -5.65913860e-02, -7.82289990e-01, -1.75860272e-01, -8.47506457e-01,\n",
       "       -6.30139835e-01, -4.21847397e-01, -7.49777777e-01, -9.66599827e-01,\n",
       "       -1.04880432e-01, -5.53529516e-01, -1.51614620e-01, -4.84500082e-01,\n",
       "       -2.37851233e-01, -9.52820815e-01, -1.52889332e-01, -9.52101804e-01,\n",
       "       -1.15200299e-01, -9.37016816e-01, -3.83400494e-01, -8.08512845e-01,\n",
       "       -1.93345368e-01, -3.97289705e-01, -8.73684643e-01, -2.08357928e-01,\n",
       "       -2.67244304e-01, -3.52646406e-02, -5.13341226e-01, -4.87601890e-01,\n",
       "       -8.78031781e-01, -1.78170410e-01, -8.15992665e-01, -4.10363297e-03,\n",
       "       -7.89383340e-01, -5.02701708e-01, -3.28957654e-01, -9.71673409e-01,\n",
       "       -1.47705483e-01, -6.74372248e-03, -5.90006486e-01, -2.35180033e-01,\n",
       "       -6.42791039e-01, -8.24798884e-01, -8.58088276e-01, -7.20721330e-02,\n",
       "       -5.15634543e-01, -7.78811939e-01, -8.56325464e-01, -3.00632817e-01,\n",
       "       -9.68693459e-01, -7.00549610e-01, -6.16544436e-01, -3.01097620e-02,\n",
       "       -4.12416745e-01, -9.43218999e-01, -8.19568669e-01, -9.15454681e-01,\n",
       "       -3.48633227e-01, -4.29180202e-01, -5.26063918e-01, -2.05965410e-01,\n",
       "       -5.74627551e-01, -4.02346587e-01, -9.22179229e-01, -7.13993727e-02,\n",
       "       -6.36530952e-01, -2.67970070e-01, -1.98428247e-01, -1.01464221e-01,\n",
       "       -2.63714824e-01, -5.33378511e-01, -8.24303244e-01, -5.78536934e-01,\n",
       "       -7.02104134e-01, -2.06600968e-01, -1.57670545e-01, -7.41626878e-01,\n",
       "       -6.28079925e-01, -5.26228804e-01, -9.30260342e-01, -4.56505892e-01,\n",
       "       -7.96161316e-01, -6.03247369e-01, -4.97359163e-02, -1.60850134e-01,\n",
       "       -7.13929874e-02, -6.82127133e-01, -7.35166561e-01, -9.91937249e-01,\n",
       "       -2.79487113e-01, -9.87843626e-01, -4.57682108e-01, -6.22303902e-01,\n",
       "       -5.85642929e-01, -6.24363425e-01, -4.75344970e-01, -6.12355372e-01,\n",
       "       -6.40537395e-01, -2.96485882e-01, -2.42461238e-01, -2.74630963e-01,\n",
       "       -8.70221801e-01, -9.67621614e-01, -4.54140722e-01, -1.33817274e-01,\n",
       "       -4.95433609e-01, -7.82686703e-01, -8.96168229e-01, -4.04428539e-02,\n",
       "       -3.52580438e-01, -5.80358941e-01, -4.81877846e-01, -6.06978330e-01,\n",
       "       -1.29439412e-01, -7.31887430e-01, -7.44447564e-01, -7.00457085e-01,\n",
       "       -9.88212202e-01, -6.83697685e-01, -3.31288399e-01, -9.40552220e-01,\n",
       "       -4.49620368e-01, -1.60525324e-02, -3.29117779e-01, -7.22853541e-01,\n",
       "       -6.12682072e-01, -5.09367414e-01, -9.34011811e-01, -2.48899134e-01,\n",
       "       -7.82766661e-01, -7.27010282e-01, -5.07344495e-01, -9.58757334e-01,\n",
       "       -3.10756646e-02, -8.08058518e-01, -3.23620827e-01, -8.63350836e-01,\n",
       "       -6.22136695e-01, -7.02954614e-01, -4.33883100e-01, -5.70557230e-01,\n",
       "       -3.53759479e-01, -4.74735645e-01, -9.03610537e-01, -6.08325652e-01,\n",
       "       -3.68895571e-01, -1.52220293e-01, -9.54957981e-01, -2.84953551e-01,\n",
       "       -2.69835249e-01, -4.63712371e-01, -4.69018937e-01, -7.64671340e-01,\n",
       "       -6.40941682e-01, -5.11833638e-03, -4.39882925e-01, -6.45519922e-02,\n",
       "       -5.38803256e-02, -1.91436594e-01, -2.79359671e-02, -1.27900017e-01,\n",
       "       -3.81608906e-01, -7.47779256e-01, -3.17888328e-01, -8.74031338e-02,\n",
       "       -6.09761039e-02, -5.90854913e-01, -5.26215085e-01, -7.88013772e-01,\n",
       "       -4.48334528e-01, -4.49098242e-01, -1.13046025e-01, -8.82298395e-02,\n",
       "       -9.77306322e-01, -6.59301940e-01, -4.55989409e-01, -9.74457818e-01,\n",
       "       -3.32227207e-01, -7.73199367e-01, -6.29477558e-01, -4.92304653e-01])"
      ]
     },
     "execution_count": 30,
     "metadata": {},
     "output_type": "execute_result"
    }
   ],
   "source": [
    "s = np.random.uniform(-1,0,1000)\n",
    "s"
   ]
  },
  {
   "cell_type": "markdown",
   "metadata": {},
   "source": [
    "Samples are uniformly distributed over the half-open interval [low, high) (includes low, but excludes high). In other words, any value within the given interval is equally likely to be drawn by uniform."
   ]
  }
 ],
 "metadata": {
  "kernelspec": {
   "display_name": "Python 3",
   "language": "python",
   "name": "python3"
  },
  "language_info": {
   "codemirror_mode": {
    "name": "ipython",
    "version": 3
   },
   "file_extension": ".py",
   "mimetype": "text/x-python",
   "name": "python",
   "nbconvert_exporter": "python",
   "pygments_lexer": "ipython3",
   "version": "3.6.5"
  }
 },
 "nbformat": 4,
 "nbformat_minor": 2
}
