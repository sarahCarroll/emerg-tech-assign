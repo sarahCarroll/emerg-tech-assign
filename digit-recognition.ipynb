{
 "cells": [
  {
   "cell_type": "markdown",
   "metadata": {},
   "source": [
    "# Handwritten Digit Recognition using Convolutional Neural Networks in Python with Keras"
   ]
  },
  {
   "cell_type": "code",
   "execution_count": 1,
   "metadata": {},
   "outputs": [
    {
     "name": "stderr",
     "output_type": "stream",
     "text": [
      "C:\\Users\\sarahc\\Anaconda3\\lib\\site-packages\\h5py\\__init__.py:36: FutureWarning: Conversion of the second argument of issubdtype from `float` to `np.floating` is deprecated. In future, it will be treated as `np.float64 == np.dtype(float).type`.\n",
      "  from ._conv import register_converters as _register_converters\n",
      "Using TensorFlow backend.\n"
     ]
    }
   ],
   "source": [
    "# Import keras, numpy and gzip.\n",
    "# keras uses tendorflow to create the neural network\n",
    "import keras as kr\n",
    "import numpy as np\n",
    "import gzip\n",
    "# For encoding categorical variables.\n",
    "import sklearn.preprocessing as pre"
   ]
  },
  {
   "cell_type": "code",
   "execution_count": 2,
   "metadata": {},
   "outputs": [],
   "source": [
    "# open each of the training .gzip files as done in mnist dataset notebook.\n",
    "with gzip.open('data/train-images-idx3-ubyte.gz', 'rb') as f:\n",
    "    train_img = f.read()\n",
    "with gzip.open('data/train-labels-idx1-ubyte.gz', 'rb') as f:\n",
    "    train_lbl = f.read()"
   ]
  },
  {
   "cell_type": "code",
   "execution_count": 3,
   "metadata": {},
   "outputs": [],
   "source": [
    "# Start a neural network, building it by layers.\n",
    "# There are two main types of models available in Keras: the Sequential model, \n",
    "# and the Model class used with the functional API. \n",
    "#These models have a number of methods and attributes in common: model.\n",
    "# layers is a flattened list of the layers comprising the model. model.\n",
    "# inputs is the list of input tensors of the model.\n",
    "model = kr.models.Sequential()"
   ]
  },
  {
   "cell_type": "code",
   "execution_count": 4,
   "metadata": {},
   "outputs": [],
   "source": [
    "# Add a hidden layer with x neurons and an input layer with 784. The more hidden layers the stronger the neural network.\n",
    "# each input neuron is connected to each of the x neurons at each layer.\n",
    "# each activation type performs differently.\n",
    "model.add(kr.layers.Dense(units=600, activation='linear', input_dim=784))\n",
    "model.add(kr.layers.Dense(units=500, activation='sigmoid', input_dim=784))\n",
    "model.add(kr.layers.Dense(units=400, activation='linear', input_dim=784))\n",
    "model.add(kr.layers.Dense(units=300, activation='relu', input_dim=784))\n",
    "model.add(kr.layers.Dense(units=150, activation='tanh', input_dim=784))\n",
    "# Final layer of network needs 10 units one for each numerical value tested\n",
    "model.add(kr.layers.Dense(units=10, activation='relu'))"
   ]
  },
  {
   "cell_type": "code",
   "execution_count": 5,
   "metadata": {},
   "outputs": [],
   "source": [
    "# Build the graph. The optimizor plays a roll is the outcome of the accuricy\n",
    "model.compile(loss='binary_crossentropy', optimizer='adam', metrics=['accuracy'])\n",
    "# model.compile(optimizer=\"sgd\", loss='categorical_crossentropy', metrics=['accuracy'])"
   ]
  },
  {
   "cell_type": "code",
   "execution_count": 6,
   "metadata": {},
   "outputs": [],
   "source": [
    "# reshape to 28*28 pixal size the training image set to ~ changed backgroud black and white reverse\n",
    "train_img = ~np.array(list(train_img[16:])).reshape(60000, 28, 28).astype(np.uint8)/255.0\n",
    "train_lbl =  np.array(list(train_lbl[ 8:])).astype(np.uint8)"
   ]
  },
  {
   "cell_type": "code",
   "execution_count": 7,
   "metadata": {},
   "outputs": [],
   "source": [
    "# create variable called inputs that reshapes the 28*28 to 784.\n",
    "inputs = train_img.reshape(60000, 784)"
   ]
  },
  {
   "cell_type": "code",
   "execution_count": 8,
   "metadata": {},
   "outputs": [],
   "source": [
    "encoder = pre.LabelBinarizer()\n",
    "encoder.fit(train_lbl)\n",
    "outputs = encoder.transform(train_lbl)"
   ]
  },
  {
   "cell_type": "code",
   "execution_count": null,
   "metadata": {},
   "outputs": [
    {
     "name": "stdout",
     "output_type": "stream",
     "text": [
      "Epoch 1/10\n",
      "60000/60000 [==============================] - 36s 604us/step - loss: 5.4293 - acc: 0.6387\n",
      "Epoch 2/10\n",
      "60000/60000 [==============================] - 30s 502us/step - loss: 5.4307 - acc: 0.6403\n",
      "Epoch 3/10\n",
      "60000/60000 [==============================] - 30s 495us/step - loss: 5.4307 - acc: 0.6403\n",
      "Epoch 4/10\n",
      "60000/60000 [==============================] - 31s 513us/step - loss: 5.4307 - acc: 0.6403\n",
      "Epoch 5/10\n",
      "60000/60000 [==============================] - 29s 484us/step - loss: 5.4307 - acc: 0.6403\n",
      "Epoch 6/10\n",
      "60000/60000 [==============================] - 28s 462us/step - loss: 5.4307 - acc: 0.6403\n",
      "Epoch 7/10\n",
      "60000/60000 [==============================] - 27s 457us/step - loss: 5.4307 - acc: 0.6403\n",
      "Epoch 8/10\n",
      "21082/60000 [=========>....................] - ETA: 17s - loss: 5.4439 - acc: 0.6398"
     ]
    }
   ],
   "source": [
    "# create a model to train your nn, This runs a total of 10 times once for each epochs, and batch size of 98 this means there are \n",
    "# 98 values going though every iteration\n",
    "model.fit(inputs, outputs, epochs=10, batch_size=127)"
   ]
  },
  {
   "cell_type": "code",
   "execution_count": null,
   "metadata": {},
   "outputs": [],
   "source": [
    "# unzip the test image and lables files\n",
    "with gzip.open('data/t10k-images-idx3-ubyte.gz', 'rb') as f:\n",
    "    test_img = f.read()\n",
    "\n",
    "with gzip.open('data/t10k-labels-idx1-ubyte.gz', 'rb') as f:\n",
    "    test_lbl = f.read()"
   ]
  },
  {
   "cell_type": "code",
   "execution_count": null,
   "metadata": {},
   "outputs": [],
   "source": [
    "# ensure all images in the test set are size 28*28 pixals and divide the solution to give values between 0-1\n",
    "test_img = ~np.array(list(test_img[16:])).reshape(10000, 784).astype(np.uint8) / 255.0\n",
    "test_lbl =  np.array(list(test_lbl[ 8:])).astype(np.uint8)"
   ]
  },
  {
   "cell_type": "code",
   "execution_count": null,
   "metadata": {},
   "outputs": [],
   "source": [
    "# conpared prediction with the actual set of test information and gives back a value of the number of test data the network pridicted correctly\n",
    "(encoder.inverse_transform(model.predict(test_img)) == test_lbl).sum()"
   ]
  },
  {
   "cell_type": "code",
   "execution_count": null,
   "metadata": {},
   "outputs": [],
   "source": []
  },
  {
   "cell_type": "markdown",
   "metadata": {},
   "source": [
    "## References\n",
    "https://keras.io/models/about-keras-models/  \n",
    "https://towardsdatascience.com/image-classification-in-10-minutes-with-mnist-dataset-54c35b77a38d  \n",
    "http://makeyourownneuralnetwork.blogspot.com/2015/03/the-mnist-dataset-of-handwitten-digits.html  \n",
    "https://keras.io/getting-started/sequential-model-guide/  \n",
    "\n"
   ]
  }
 ],
 "metadata": {
  "kernelspec": {
   "display_name": "Python 3",
   "language": "python",
   "name": "python3"
  },
  "language_info": {
   "codemirror_mode": {
    "name": "ipython",
    "version": 3
   },
   "file_extension": ".py",
   "mimetype": "text/x-python",
   "name": "python",
   "nbconvert_exporter": "python",
   "pygments_lexer": "ipython3",
   "version": "3.6.5"
  }
 },
 "nbformat": 4,
 "nbformat_minor": 2
}
