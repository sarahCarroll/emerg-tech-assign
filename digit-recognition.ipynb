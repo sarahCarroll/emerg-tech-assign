{
 "cells": [
  {
   "cell_type": "markdown",
   "metadata": {},
   "source": [
    "# Handwritten Digit Recognition using Convolutional Neural Networks in Python with Keras"
   ]
  },
  {
   "cell_type": "code",
   "execution_count": 5,
   "metadata": {},
   "outputs": [],
   "source": [
    "# Import keras, numpy and gzip.\n",
    "# keras uses tendorflow to create the neural network\n",
    "import keras as kr\n",
    "import numpy as np\n",
    "import gzip"
   ]
  },
  {
   "cell_type": "code",
   "execution_count": 3,
   "metadata": {},
   "outputs": [],
   "source": [
    "# open each of the training .gzip files as done in mnist dataset notebook.\n",
    "with gzip.open('data/train-images-idx3-ubyte.gz', 'rb') as f:\n",
    "    train_img = f.read()\n",
    "with gzip.open('data/train-labels-idx1-ubyte.gz', 'rb') as f:\n",
    "    train_lbl = f.read()"
   ]
  },
  {
   "cell_type": "code",
   "execution_count": 4,
   "metadata": {},
   "outputs": [],
   "source": [
    "# Start a neural network, building it by layers.\n",
    "# There are two main types of models available in Keras: the Sequential model, \n",
    "# and the Model class used with the functional API. \n",
    "#These models have a number of methods and attributes in common: model.\n",
    "# layers is a flattened list of the layers comprising the model. model.\n",
    "# inputs is the list of input tensors of the model.\n",
    "model = kr.models.Sequential()"
   ]
  },
  {
   "cell_type": "code",
   "execution_count": 6,
   "metadata": {},
   "outputs": [],
   "source": [
    "# Add a hidden layer with x neurons and an input layer with 784. The more hidden layers the stronger the neural network.\n",
    "# each input neuron is connected to each of the x neurons at each layer.\n",
    "# each activation type performs differently.\n",
    "model.add(kr.layers.Dense(units=600, activation='linear', input_dim=784))\n",
    "model.add(kr.layers.Dense(units=500, activation='sigmoid', input_dim=784))\n",
    "model.add(kr.layers.Dense(units=400, activation='linear', input_dim=784))\n",
    "model.add(kr.layers.Dense(units=300, activation='relu', input_dim=784))\n",
    "model.add(kr.layers.Dense(units=150, activation='tanh', input_dim=784))\n",
    "# Final layer of network needs 10 units one for each numerical value tested\n",
    "model.add(kr.layers.Dense(units=10, activation='relu'))"
   ]
  },
  {
   "cell_type": "code",
   "execution_count": 7,
   "metadata": {},
   "outputs": [],
   "source": [
    "# Build the graph. The optimizor plays a roll is the outcome of the accuricy\n",
    "model.compile(loss='categorical_crossentropy', optimizer='adam', metrics=['accuracy'])\n",
    "# model.compile(optimizer=\"sgd\", loss='categorical_crossentropy', metrics=['accuracy'])"
   ]
  },
  {
   "cell_type": "markdown",
   "metadata": {},
   "source": [
    "## References\n",
    "https://keras.io/models/about-keras-models/  \n",
    "https://towardsdatascience.com/image-classification-in-10-minutes-with-mnist-dataset-54c35b77a38d  \n",
    "http://makeyourownneuralnetwork.blogspot.com/2015/03/the-mnist-dataset-of-handwitten-digits.html  \n",
    "https://keras.io/getting-started/sequential-model-guide/  \n",
    "\n"
   ]
  }
 ],
 "metadata": {
  "kernelspec": {
   "display_name": "Python 3",
   "language": "python",
   "name": "python3"
  },
  "language_info": {
   "codemirror_mode": {
    "name": "ipython",
    "version": 3
   },
   "file_extension": ".py",
   "mimetype": "text/x-python",
   "name": "python",
   "nbconvert_exporter": "python",
   "pygments_lexer": "ipython3",
   "version": "3.6.5"
  }
 },
 "nbformat": 4,
 "nbformat_minor": 2
}
