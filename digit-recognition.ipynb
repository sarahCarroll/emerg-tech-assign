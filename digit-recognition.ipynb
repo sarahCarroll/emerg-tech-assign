{
 "cells": [
  {
   "cell_type": "markdown",
   "metadata": {},
   "source": [
    "# Handwritten Digit Recognition using Convolutional Neural Networks in Python with Keras"
   ]
  },
  {
   "cell_type": "markdown",
   "metadata": {},
   "source": [
    "## Create Neural Network\n",
    "* A Neural network is a computer system modelled on the human brain and nervous system.\n",
    "* Using TensorFlow, an open-source Python library developed by the Google Brain labs for deep learning research, you will take hand-drawn images of the numbers 0-9 and build and train a neural network to recognize and predict the correct label for the digit displayed.\n",
    "* Keras is a high-level neural network API focused on user friendliness, fast prototyping, modularity and extensibility.\n",
    "* gzip is used to open the gz files"
   ]
  },
  {
   "cell_type": "code",
   "execution_count": 1,
   "metadata": {},
   "outputs": [
    {
     "name": "stderr",
     "output_type": "stream",
     "text": [
      "C:\\Users\\sarahc\\Anaconda3\\lib\\site-packages\\h5py\\__init__.py:36: FutureWarning: Conversion of the second argument of issubdtype from `float` to `np.floating` is deprecated. In future, it will be treated as `np.float64 == np.dtype(float).type`.\n",
      "  from ._conv import register_converters as _register_converters\n",
      "Using TensorFlow backend.\n"
     ]
    }
   ],
   "source": [
    "# Import keras, numpy and gzip.\n",
    "# keras uses tendorflow to create the neural network\n",
    "import keras as kr\n",
    "import numpy as np\n",
    "import gzip\n",
    "# For encoding categorical variables.\n",
    "import sklearn.preprocessing as pre"
   ]
  },
  {
   "cell_type": "markdown",
   "metadata": {},
   "source": [
    "### Opening the files to be read\n",
    "* each files consists of bytes \n",
    "* when you use gzip.open you can read the file 1 byte at a time"
   ]
  },
  {
   "cell_type": "code",
   "execution_count": 2,
   "metadata": {},
   "outputs": [],
   "source": [
    "# open each of the training .gzip files as done in mnist dataset notebook.\n",
    "with gzip.open('data/train-images-idx3-ubyte.gz', 'rb') as f:\n",
    "    train_img = f.read()\n",
    "with gzip.open('data/train-labels-idx1-ubyte.gz', 'rb') as f:\n",
    "    train_lbl = f.read()"
   ]
  },
  {
   "cell_type": "markdown",
   "metadata": {},
   "source": [
    "* Start a neural network, building it by layers.\n",
    "* There are two main types of models available in Keras: the Sequential model, and the Model class used with the functional API. \n",
    "* These models have a number of methods and attributes in common: model.\n",
    "* layers is a flattened list of the layers comprising the model.\n",
    "* inputs is the list of input tensors of the model."
   ]
  },
  {
   "cell_type": "code",
   "execution_count": 3,
   "metadata": {},
   "outputs": [],
   "source": [
    "model = kr.models.Sequential()"
   ]
  },
  {
   "cell_type": "markdown",
   "metadata": {},
   "source": [
    "* Add a hidden layer with x neurons and an input layer with 784. The more hidden layers the stronger the neural network.\n",
    "* each input neuron is connected to each of the x neurons at each layer.\n",
    "* each activation type performs differently.\n",
    "* In the final layer of the network ,there only needs to be 10 units one for each character"
   ]
  },
  {
   "cell_type": "code",
   "execution_count": 4,
   "metadata": {},
   "outputs": [],
   "source": [
    "model.add(kr.layers.Dense(units=600, activation='linear', input_dim=784))\n",
    "model.add(kr.layers.Dense(units=500, activation='sigmoid', input_dim=784))\n",
    "model.add(kr.layers.Dense(units=400, activation='linear', input_dim=784))\n",
    "model.add(kr.layers.Dense(units=300, activation='relu', input_dim=784))\n",
    "model.add(kr.layers.Dense(units=150, activation='tanh', input_dim=784))\n",
    "# Final layer of network needs 10 units one for each numerical value tested\n",
    "model.add(kr.layers.Dense(units=10, activation='sigmoid'))"
   ]
  },
  {
   "cell_type": "markdown",
   "metadata": {},
   "source": [
    "*  Build the graph. The optimizor plays a roll is the outcome of the accuricy\n",
    "* the loss when changed to binary_crossentropy increases the accuracy for the program greatly"
   ]
  },
  {
   "cell_type": "code",
   "execution_count": 5,
   "metadata": {},
   "outputs": [],
   "source": [
    "model.compile(loss='binary_crossentropy', optimizer='adam', metrics=['accuracy'])\n",
    "# model.compile(optimizer=\"sgd\", loss='categorical_crossentropy', metrics=['accuracy'])"
   ]
  },
  {
   "cell_type": "markdown",
   "metadata": {},
   "source": [
    "* reshape to 28*28 pixal size the training image set to ~ changed backgroud black and white reverse"
   ]
  },
  {
   "cell_type": "code",
   "execution_count": 6,
   "metadata": {},
   "outputs": [],
   "source": [
    "train_img = ~np.array(list(train_img[16:])).reshape(60000, 28, 28).astype(np.uint8)/255.0\n",
    "train_lbl =  np.array(list(train_lbl[ 8:])).astype(np.uint8)"
   ]
  },
  {
   "cell_type": "markdown",
   "metadata": {},
   "source": [
    "* create variable called inputs that reshapes the 28*28 to 784."
   ]
  },
  {
   "cell_type": "code",
   "execution_count": 7,
   "metadata": {},
   "outputs": [],
   "source": [
    "inputs = train_img.reshape(60000, 784)"
   ]
  },
  {
   "cell_type": "code",
   "execution_count": 8,
   "metadata": {},
   "outputs": [],
   "source": [
    "encoder = pre.LabelBinarizer()\n",
    "encoder.fit(train_lbl)\n",
    "outputs = encoder.transform(train_lbl)"
   ]
  },
  {
   "cell_type": "markdown",
   "metadata": {},
   "source": [
    "* create a model to train your nn.\n",
    "* This runs a total of 10 times once for each epochs, and batch size of 98 this means there are 127 values going though every iteration"
   ]
  },
  {
   "cell_type": "code",
   "execution_count": 9,
   "metadata": {},
   "outputs": [
    {
     "name": "stdout",
     "output_type": "stream",
     "text": [
      "Epoch 1/15\n",
      "60000/60000 [==============================] - 36s 594us/step - loss: 0.1471 - acc: 0.94831s - lo\n",
      "Epoch 2/15\n",
      "60000/60000 [==============================] - 29s 477us/step - loss: 0.0501 - acc: 0.9832\n",
      "Epoch 3/15\n",
      "60000/60000 [==============================] - 29s 484us/step - loss: 0.0382 - acc: 0.98710s - loss: 0.0384 \n",
      "Epoch 4/15\n",
      "60000/60000 [==============================] - 29s 482us/step - loss: 0.0303 - acc: 0.9898\n",
      "Epoch 5/15\n",
      "60000/60000 [==============================] - 29s 482us/step - loss: 0.0267 - acc: 0.9911\n",
      "Epoch 6/15\n",
      "60000/60000 [==============================] - 30s 501us/step - loss: 0.0254 - acc: 0.9915\n",
      "Epoch 7/15\n",
      "60000/60000 [==============================] - 30s 494us/step - loss: 0.0250 - acc: 0.9915\n",
      "Epoch 8/15\n",
      "60000/60000 [==============================] - 28s 475us/step - loss: 0.0219 - acc: 0.99262s - loss: 0.0218 - acc:  - \n",
      "Epoch 9/15\n",
      "60000/60000 [==============================] - 29s 486us/step - loss: 0.0217 - acc: 0.9926\n",
      "Epoch 10/15\n",
      "60000/60000 [==============================] - 29s 482us/step - loss: 0.0210 - acc: 0.9930\n",
      "Epoch 11/15\n",
      "60000/60000 [==============================] - 29s 480us/step - loss: 0.0223 - acc: 0.9925\n",
      "Epoch 12/15\n",
      "60000/60000 [==============================] - 29s 476us/step - loss: 0.0192 - acc: 0.99361s - loss:  - ETA: 0s - loss: 0.0192 - acc:\n",
      "Epoch 13/15\n",
      "60000/60000 [==============================] - 29s 490us/step - loss: 0.0216 - acc: 0.9927\n",
      "Epoch 14/15\n",
      "60000/60000 [==============================] - 29s 483us/step - loss: 0.0201 - acc: 0.99320s - loss: 0.0201 - acc: 0. - ETA: 0s - loss: 0.0202 - acc: 0.\n",
      "Epoch 15/15\n",
      "60000/60000 [==============================] - 30s 508us/step - loss: 0.0197 - acc: 0.9934\n"
     ]
    },
    {
     "data": {
      "text/plain": [
       "<keras.callbacks.History at 0x28e002a07b8>"
      ]
     },
     "execution_count": 9,
     "metadata": {},
     "output_type": "execute_result"
    }
   ],
   "source": [
    "model.fit(inputs, outputs, epochs=15, batch_size=127)"
   ]
  },
  {
   "cell_type": "code",
   "execution_count": 10,
   "metadata": {},
   "outputs": [],
   "source": [
    "# unzip the test image and lables files\n",
    "with gzip.open('data/t10k-images-idx3-ubyte.gz', 'rb') as f:\n",
    "    test_img = f.read()\n",
    "\n",
    "with gzip.open('data/t10k-labels-idx1-ubyte.gz', 'rb') as f:\n",
    "    test_lbl = f.read()"
   ]
  },
  {
   "cell_type": "code",
   "execution_count": 11,
   "metadata": {},
   "outputs": [],
   "source": [
    "# ensure all images in the test set are size 28*28 pixals and divide the solution to give values between 0-1\n",
    "test_img = ~np.array(list(test_img[16:])).reshape(10000, 784).astype(np.uint8) / 255.0\n",
    "test_lbl =  np.array(list(test_lbl[ 8:])).astype(np.uint8)"
   ]
  },
  {
   "cell_type": "code",
   "execution_count": 12,
   "metadata": {},
   "outputs": [
    {
     "data": {
      "text/plain": [
       "9668"
      ]
     },
     "execution_count": 12,
     "metadata": {},
     "output_type": "execute_result"
    }
   ],
   "source": [
    "# conpared prediction with the actual set of test information and gives back a value of the number of test data the network pridicted correctly\n",
    "(encoder.inverse_transform(model.predict(test_img)) == test_lbl).sum()"
   ]
  },
  {
   "cell_type": "markdown",
   "metadata": {},
   "source": [
    "## References\n",
    "https://keras.io/models/about-keras-models/  \n",
    "https://towardsdatascience.com/image-classification-in-10-minutes-with-mnist-dataset-54c35b77a38d  \n",
    "http://makeyourownneuralnetwork.blogspot.com/2015/03/the-mnist-dataset-of-handwitten-digits.html  \n",
    "https://keras.io/getting-started/sequential-model-guide/  \n",
    "https://www.digitalocean.com/community/tutorials/how-to-build-a-neural-network-to-recognize-handwritten-digits-with-tensorflow  \n",
    "https://nextjournal.com/gkoehler/digit-recognition-with-keras  \n",
    "https://www.tensorflow.org/api_docs/python/tf/keras/metrics/binary_accuracy  "
   ]
  }
 ],
 "metadata": {
  "kernelspec": {
   "display_name": "Python 3",
   "language": "python",
   "name": "python3"
  },
  "language_info": {
   "codemirror_mode": {
    "name": "ipython",
    "version": 3
   },
   "file_extension": ".py",
   "mimetype": "text/x-python",
   "name": "python",
   "nbconvert_exporter": "python",
   "pygments_lexer": "ipython3",
   "version": "3.6.5"
  }
 },
 "nbformat": 4,
 "nbformat_minor": 2
}
