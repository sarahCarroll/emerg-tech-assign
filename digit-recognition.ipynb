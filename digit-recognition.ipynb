{
 "cells": [
  {
   "cell_type": "markdown",
   "metadata": {},
   "source": [
    "# Handwritten Digit Recognition using Convolutional Neural Networks in Python with Keras"
   ]
  },
  {
   "cell_type": "markdown",
   "metadata": {},
   "source": [
    "![title](data:image/jpeg;base64,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)"
   ]
  },
  {
   "cell_type": "markdown",
   "metadata": {},
   "source": [
    "## Create Neural Network\n",
    "* A Neural network is a computer system modelled on the human brain and nervous system.\n",
    "* Using TensorFlow, an open-source Python library developed by the Google Brain labs for deep learning research, you will take hand-drawn images of the numbers 0-9 and build and train a neural network to recognize and predict the correct label for the digit displayed.\n",
    "* Keras is a high-level neural network API focused on user friendliness, fast prototyping, modularity and extensibility.\n",
    "* gzip is used to open the gz files"
   ]
  },
  {
   "cell_type": "code",
   "execution_count": 1,
   "metadata": {},
   "outputs": [
    {
     "name": "stderr",
     "output_type": "stream",
     "text": [
      "C:\\Users\\sarahc\\Anaconda3\\lib\\site-packages\\h5py\\__init__.py:36: FutureWarning: Conversion of the second argument of issubdtype from `float` to `np.floating` is deprecated. In future, it will be treated as `np.float64 == np.dtype(float).type`.\n",
      "  from ._conv import register_converters as _register_converters\n",
      "Using TensorFlow backend.\n"
     ]
    }
   ],
   "source": [
    "# Import keras, numpy and gzip.\n",
    "# keras uses tendorflow to create the neural network\n",
    "import keras as kr\n",
    "import numpy as np\n",
    "import gzip\n",
    "# For encoding categorical variables.\n",
    "import sklearn.preprocessing as pre"
   ]
  },
  {
   "cell_type": "markdown",
   "metadata": {},
   "source": [
    "### Opening the files to be read\n",
    "* each files consists of bytes \n",
    "* when you use gzip.open you can read the file 1 byte at a time"
   ]
  },
  {
   "cell_type": "code",
   "execution_count": 2,
   "metadata": {},
   "outputs": [],
   "source": [
    "# open each of the training .gzip files as done in mnist dataset notebook.\n",
    "with gzip.open('data/train-images-idx3-ubyte.gz', 'rb') as f:\n",
    "    train_img = f.read()\n",
    "with gzip.open('data/train-labels-idx1-ubyte.gz', 'rb') as f:\n",
    "    train_lbl = f.read()"
   ]
  },
  {
   "cell_type": "markdown",
   "metadata": {},
   "source": [
    "* Start a neural network, building it by layers.\n",
    "* There are two main types of models available in Keras: the Sequential model, and the Model class used with the functional API. \n",
    "* These models have a number of methods and attributes in common: model.\n",
    "* layers is a flattened list of the layers comprising the model.\n",
    "* inputs is the list of input tensors of the model."
   ]
  },
  {
   "cell_type": "code",
   "execution_count": 3,
   "metadata": {},
   "outputs": [],
   "source": [
    "model = kr.models.Sequential()"
   ]
  },
  {
   "cell_type": "markdown",
   "metadata": {},
   "source": [
    "* Add a hidden layer with x neurons and an input layer with 784. The more hidden layers the stronger the neural network.\n",
    "* each input neuron is connected to each of the x neurons at each layer.\n",
    "* each activation type performs differently.\n",
    "* In the final layer of the network ,there only needs to be 10 units one for each character"
   ]
  },
  {
   "cell_type": "code",
   "execution_count": 4,
   "metadata": {},
   "outputs": [],
   "source": [
    "model.add(kr.layers.Dense(units=600, activation='linear', input_dim=784))\n",
    "model.add(kr.layers.Dense(units=500, activation='sigmoid', input_dim=784))\n",
    "model.add(kr.layers.Dense(units=400, activation='linear', input_dim=784))\n",
    "model.add(kr.layers.Dense(units=300, activation='relu', input_dim=784))\n",
    "model.add(kr.layers.Dense(units=150, activation='tanh', input_dim=784))\n",
    "# Final layer of network needs 10 units one for each numerical value tested\n",
    "model.add(kr.layers.Dense(units=10, activation='sigmoid'))"
   ]
  },
  {
   "cell_type": "markdown",
   "metadata": {},
   "source": [
    "*  Build the graph. The optimizor plays a roll is the outcome of the accuricy\n",
    "* the loss when changed to binary_crossentropy increases the accuracy for the program greatly"
   ]
  },
  {
   "cell_type": "code",
   "execution_count": 5,
   "metadata": {},
   "outputs": [],
   "source": [
    "model.compile(loss='binary_crossentropy', optimizer='adam', metrics=['accuracy'])\n",
    "# model.compile(optimizer=\"sgd\", loss='categorical_crossentropy', metrics=['accuracy'])"
   ]
  },
  {
   "cell_type": "markdown",
   "metadata": {},
   "source": [
    "* reshape to 28*28 pixal size the training image set to ~ changed backgroud black and white reverse"
   ]
  },
  {
   "cell_type": "code",
   "execution_count": 6,
   "metadata": {},
   "outputs": [],
   "source": [
    "train_img = ~np.array(list(train_img[16:])).reshape(60000, 28, 28).astype(np.uint8)/255.0\n",
    "train_lbl =  np.array(list(train_lbl[ 8:])).astype(np.uint8)"
   ]
  },
  {
   "cell_type": "markdown",
   "metadata": {},
   "source": [
    "* create variable called inputs that reshapes the 28*28 to 784."
   ]
  },
  {
   "cell_type": "code",
   "execution_count": 7,
   "metadata": {},
   "outputs": [],
   "source": [
    "inputs = train_img.reshape(60000, 784)"
   ]
  },
  {
   "cell_type": "code",
   "execution_count": 8,
   "metadata": {},
   "outputs": [],
   "source": [
    "encoder = pre.LabelBinarizer()\n",
    "encoder.fit(train_lbl)\n",
    "outputs = encoder.transform(train_lbl)"
   ]
  },
  {
   "cell_type": "markdown",
   "metadata": {},
   "source": [
    "* create a model to train your nn.\n",
    "* This runs a total of 10 times once for each epochs, and batch size of 98 this means there are 127 values going though every iteration"
   ]
  },
  {
   "cell_type": "code",
   "execution_count": 9,
   "metadata": {},
   "outputs": [
    {
     "name": "stdout",
     "output_type": "stream",
     "text": [
      "Epoch 1/15\n",
      "60000/60000 [==============================] - 36s 594us/step - loss: 0.1471 - acc: 0.94831s - lo\n",
      "Epoch 2/15\n",
      "60000/60000 [==============================] - 29s 477us/step - loss: 0.0501 - acc: 0.9832\n",
      "Epoch 3/15\n",
      "60000/60000 [==============================] - 29s 484us/step - loss: 0.0382 - acc: 0.98710s - loss: 0.0384 \n",
      "Epoch 4/15\n",
      "60000/60000 [==============================] - 29s 482us/step - loss: 0.0303 - acc: 0.9898\n",
      "Epoch 5/15\n",
      "60000/60000 [==============================] - 29s 482us/step - loss: 0.0267 - acc: 0.9911\n",
      "Epoch 6/15\n",
      "60000/60000 [==============================] - 30s 501us/step - loss: 0.0254 - acc: 0.9915\n",
      "Epoch 7/15\n",
      "60000/60000 [==============================] - 30s 494us/step - loss: 0.0250 - acc: 0.9915\n",
      "Epoch 8/15\n",
      "60000/60000 [==============================] - 28s 475us/step - loss: 0.0219 - acc: 0.99262s - loss: 0.0218 - acc:  - \n",
      "Epoch 9/15\n",
      "60000/60000 [==============================] - 29s 486us/step - loss: 0.0217 - acc: 0.9926\n",
      "Epoch 10/15\n",
      "60000/60000 [==============================] - 29s 482us/step - loss: 0.0210 - acc: 0.9930\n",
      "Epoch 11/15\n",
      "60000/60000 [==============================] - 29s 480us/step - loss: 0.0223 - acc: 0.9925\n",
      "Epoch 12/15\n",
      "60000/60000 [==============================] - 29s 476us/step - loss: 0.0192 - acc: 0.99361s - loss:  - ETA: 0s - loss: 0.0192 - acc:\n",
      "Epoch 13/15\n",
      "60000/60000 [==============================] - 29s 490us/step - loss: 0.0216 - acc: 0.9927\n",
      "Epoch 14/15\n",
      "60000/60000 [==============================] - 29s 483us/step - loss: 0.0201 - acc: 0.99320s - loss: 0.0201 - acc: 0. - ETA: 0s - loss: 0.0202 - acc: 0.\n",
      "Epoch 15/15\n",
      "60000/60000 [==============================] - 30s 508us/step - loss: 0.0197 - acc: 0.9934\n"
     ]
    },
    {
     "data": {
      "text/plain": [
       "<keras.callbacks.History at 0x28e002a07b8>"
      ]
     },
     "execution_count": 9,
     "metadata": {},
     "output_type": "execute_result"
    }
   ],
   "source": [
    "model.fit(inputs, outputs, epochs=15, batch_size=127)"
   ]
  },
  {
   "cell_type": "code",
   "execution_count": 10,
   "metadata": {},
   "outputs": [],
   "source": [
    "# unzip the test image and lables files\n",
    "with gzip.open('data/t10k-images-idx3-ubyte.gz', 'rb') as f:\n",
    "    test_img = f.read()\n",
    "\n",
    "with gzip.open('data/t10k-labels-idx1-ubyte.gz', 'rb') as f:\n",
    "    test_lbl = f.read()"
   ]
  },
  {
   "cell_type": "code",
   "execution_count": 11,
   "metadata": {},
   "outputs": [],
   "source": [
    "# ensure all images in the test set are size 28*28 pixals and divide the solution to give values between 0-1\n",
    "test_img = ~np.array(list(test_img[16:])).reshape(10000, 784).astype(np.uint8) / 255.0\n",
    "test_lbl =  np.array(list(test_lbl[ 8:])).astype(np.uint8)"
   ]
  },
  {
   "cell_type": "code",
   "execution_count": 12,
   "metadata": {},
   "outputs": [
    {
     "data": {
      "text/plain": [
       "9668"
      ]
     },
     "execution_count": 12,
     "metadata": {},
     "output_type": "execute_result"
    }
   ],
   "source": [
    "# conpared prediction with the actual set of test information and gives back a value of the number of test data the network pridicted correctly\n",
    "(encoder.inverse_transform(model.predict(test_img)) == test_lbl).sum()"
   ]
  },
  {
   "cell_type": "markdown",
   "metadata": {},
   "source": [
    "## References\n",
    "https://keras.io/models/about-keras-models/  \n",
    "https://towardsdatascience.com/image-classification-in-10-minutes-with-mnist-dataset-54c35b77a38d  \n",
    "http://makeyourownneuralnetwork.blogspot.com/2015/03/the-mnist-dataset-of-handwitten-digits.html  \n",
    "https://keras.io/getting-started/sequential-model-guide/  \n",
    "https://www.digitalocean.com/community/tutorials/how-to-build-a-neural-network-to-recognize-handwritten-digits-with-tensorflow  \n",
    "https://nextjournal.com/gkoehler/digit-recognition-with-keras  \n",
    "https://www.tensorflow.org/api_docs/python/tf/keras/metrics/binary_accuracy  "
   ]
  }
 ],
 "metadata": {
  "kernelspec": {
   "display_name": "Python 3",
   "language": "python",
   "name": "python3"
  },
  "language_info": {
   "codemirror_mode": {
    "name": "ipython",
    "version": 3
   },
   "file_extension": ".py",
   "mimetype": "text/x-python",
   "name": "python",
   "nbconvert_exporter": "python",
   "pygments_lexer": "ipython3",
   "version": "3.6.5"
  }
 },
 "nbformat": 4,
 "nbformat_minor": 2
}
